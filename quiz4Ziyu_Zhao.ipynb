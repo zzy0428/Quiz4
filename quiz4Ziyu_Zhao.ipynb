{
 "cells": [
  {
   "cell_type": "markdown",
   "metadata": {
    "id": "NOL9zUq9C3up"
   },
   "source": [
    "# Diagnosing and mitigating bias in word embeddings\n",
    "\n",
    "Based on the tutorial https://learn.responsibly.ai/word-embedding\n",
    "and its [notebook](https://colab.research.google.com/github/ResponsiblyAI/word-embedding/blob/main/tutorial-bias-word-embedding.ipynb).\n",
    "\n",
    "Powered by [`responsibly`](https://docs.responsibly.ai/) - Toolkit for auditing and mitigating bias of machine learning systems.\n",
    "\n",
    "This is a shortened version of the original tutorial. For more extensive context, references and explanations, refer to https://learn.responsibly.ai/.\n",
    "\n",
    "\n",
    "## Disclaimer\n",
    "\n",
    "Aiming for simplicity in the explanation, the concept of gender is oversimplified, treated as binary. Nevertheless, gender is a complex social construct. This should kept in mind when we go back from a learning context to the real-world.\n",
    "\n",
    "\n",
    "## Overview\n",
    "\n",
    "In this 45 minute tutorial, we will explore bias in **word embeddings** - a widespread building block of many machine learning models that work with human languages. \n",
    "\n",
    "A word embedding is an n-dimensional space where words are represented as vectors. In such space, words with similar behavior in text are close to each other. Following the **distributional hypothesis** (Harris 1954), behavior in text is often used as a proxy for the meaning of words. \n",
    "\n",
    "The dimensions in this particular space have been found  by a neural network, processing huge amounts of raw text data, such as news, wikipedia articles, reddit posts, tweets, etc. However, the resulting space is not intepretable at human level, since the resulting dimensions display no meaning that can be understood using common knowledge or common sense.\n",
    "\n",
    "Nevertheles, word embeddings have an easy-to-explain geometrical representation that allows an intuitive understanding of this building block and its potential biases. \n",
    "\n",
    "Bias can affect any aspect of human judgement. To illustrate the phenomenon and how to address it in word embeddings, we focus on **gender** bias. We use an oversimplified representation of gender, considering only binary gender. This simplification is aimed to improve understanding of the techniques, and needs to be specifically worked out for actual deployment in applications. \n",
    "\n",
    "## What we will be doing in this tutorial: \n",
    "\n",
    "1. **Define:** We have decided that we wish to work on gender bias, but gender bias is a very complex phenomena. First of all, we will **narrow down** our definition to be able to apply the available techniques. \n",
    "We will be working specifically on gender bias with respect to *occupations*.  \n",
    "\n",
    "2. **Diagnose:** Determine whether our embedding model has observable bias according to our definition based on occupations.\n",
    "\n",
    "3. **Mitigate:** Once we've observed some bias in our embedding, we will apply some techniques to reduce the effect of bias in the embedding.\n",
    "\n",
    "In order to do that, we use the techniques developed by [Bolukbasi et all](https://arxiv.org/pdf/1607.06520.pdf) (2016). They consist in: \n",
    "\n",
    "1. **Identifying the gender sub-space within the embedding space**: we will be characterizing a direction, or in a more general sense a sub-space, in which we can distinguish the components of the gender bias. \n",
    "\n",
    "2. In order to mitigate the bias but also be able to mantain the desirable and useful characteristics of the embedding, there are 2 techniques that the authors presents and are available in ```responsibly```:\n",
    "\n",
    "  2.1. **Neutralize**: given a *set of words that should be unbiased*, in our case professions that should be gender neutral, this technique ensures that these words are in the middle of the previously identified subspace.\n",
    "\n",
    "  2.2 **Equalize**: this technique works on *words* that should be neutral regarding to sets of words that represent a concept in different gender directions, for example {grandmother, grandfather}. After the equalization, the words that we consider should be neutral regarding gender (or the particular bias) will be equidistant to all the words of the set.\n",
    "\n",
    "In this short version we will only be working on neutralization.\n",
    "\n",
    "In all these techniques we refer to *sets of words* that are relevant to our bias analysis. These sets of words are a **key component** in all of the techniques we will be working on this workshop, and should be carefully elaborated for each particular use case.\n",
    "\n",
    "We encourage you to work beyond the gender example and try to model forms of bias that are relevant for your community. Try to formalize them as binary concepts and find words that should be gender neutral!"
   ]
  },
  {
   "cell_type": "markdown",
   "metadata": {
    "id": "ND0y48N0C3u1"
   },
   "source": [
    "There are many examples of the impact of bias\n",
    "in language technology.\n",
    "In [`this notebook`](https://colab.research.google.com/drive/1leU5YU_XYzq8Mcn5xqLivkRycorncxnW) we've collected a few."
   ]
  },
  {
   "cell_type": "markdown",
   "metadata": {
    "id": "idhysORlC3uy"
   },
   "source": [
    " # Part 0: Setup"
   ]
  },
  {
   "cell_type": "markdown",
   "metadata": {
    "id": "Vn-4xIh6C3uz"
   },
   "source": [
    "## 🛠️ Install `responsibly`"
   ]
  },
  {
   "cell_type": "code",
   "execution_count": null,
   "metadata": {
    "colab": {
     "base_uri": "https://localhost:8080/",
     "height": 676
    },
    "id": "_nQ508U3C3uz",
    "outputId": "bd923560-e33e-450e-bc6f-311057029830"
   },
   "outputs": [
    {
     "name": "stdout",
     "output_type": "stream",
     "text": [
      "Collecting responsibly\n",
      "\u001b[?25l  Downloading https://files.pythonhosted.org/packages/5a/a5/1cbc6653d0fbdba238934112eeada26219e4aebec69632d15555c2546dd5/responsibly-0.1.3-py3-none-any.whl (28.2MB)\n",
      "\u001b[K     |████████████████████████████████| 28.2MB 139kB/s \n",
      "\u001b[?25hCollecting gensim<3.8,>=3.7\n",
      "\u001b[?25l  Downloading https://files.pythonhosted.org/packages/fa/82/2542fac981c1f9302164127088bb2d2044bf70b18ed181bc745b4432f51a/gensim-3.7.3-cp37-cp37m-manylinux1_x86_64.whl (24.2MB)\n",
      "\u001b[K     |████████████████████████████████| 24.2MB 2.5MB/s \n",
      "\u001b[?25hCollecting matplotlib<3,>=2.2\n",
      "\u001b[?25l  Downloading https://files.pythonhosted.org/packages/d3/38/64d5579936b9058c39c443f186e3ee20c0a4bb0ccc9d3618a1be93b01d05/matplotlib-2.2.5-cp37-cp37m-manylinux1_x86_64.whl (12.8MB)\n",
      "\u001b[K     |████████████████████████████████| 12.8MB 18.5MB/s \n",
      "\u001b[?25hRequirement already satisfied: seaborn>=0.9 in /usr/local/lib/python3.7/dist-packages (from responsibly) (0.11.1)\n",
      "Requirement already satisfied: scipy>=1.1 in /usr/local/lib/python3.7/dist-packages (from responsibly) (1.4.1)\n",
      "Requirement already satisfied: pandas>=0.23 in /usr/local/lib/python3.7/dist-packages (from responsibly) (1.1.5)\n",
      "Requirement already satisfied: six>=1.10 in /usr/local/lib/python3.7/dist-packages (from responsibly) (1.15.0)\n",
      "Requirement already satisfied: scikit-learn>=0.19 in /usr/local/lib/python3.7/dist-packages (from responsibly) (0.22.2.post1)\n",
      "Requirement already satisfied: tqdm>=4.24 in /usr/local/lib/python3.7/dist-packages (from responsibly) (4.41.1)\n",
      "Requirement already satisfied: mlxtend<0.17,>=0.13 in /usr/local/lib/python3.7/dist-packages (from responsibly) (0.14.0)\n",
      "Requirement already satisfied: click>=6.0 in /usr/local/lib/python3.7/dist-packages (from responsibly) (7.1.2)\n",
      "Requirement already satisfied: numpy>=1.15 in /usr/local/lib/python3.7/dist-packages (from responsibly) (1.19.5)\n",
      "Requirement already satisfied: tabulate>=0.8 in /usr/local/lib/python3.7/dist-packages (from responsibly) (0.8.9)\n",
      "Requirement already satisfied: smart-open>=1.7.0 in /usr/local/lib/python3.7/dist-packages (from gensim<3.8,>=3.7->responsibly) (5.1.0)\n",
      "Requirement already satisfied: pyparsing!=2.0.4,!=2.1.2,!=2.1.6,>=2.0.1 in /usr/local/lib/python3.7/dist-packages (from matplotlib<3,>=2.2->responsibly) (2.4.7)\n",
      "Requirement already satisfied: kiwisolver>=1.0.1 in /usr/local/lib/python3.7/dist-packages (from matplotlib<3,>=2.2->responsibly) (1.3.1)\n",
      "Requirement already satisfied: pytz in /usr/local/lib/python3.7/dist-packages (from matplotlib<3,>=2.2->responsibly) (2018.9)\n",
      "Requirement already satisfied: python-dateutil>=2.1 in /usr/local/lib/python3.7/dist-packages (from matplotlib<3,>=2.2->responsibly) (2.8.1)\n",
      "Requirement already satisfied: cycler>=0.10 in /usr/local/lib/python3.7/dist-packages (from matplotlib<3,>=2.2->responsibly) (0.10.0)\n",
      "Requirement already satisfied: joblib>=0.11 in /usr/local/lib/python3.7/dist-packages (from scikit-learn>=0.19->responsibly) (1.0.1)\n",
      "Requirement already satisfied: setuptools in /usr/local/lib/python3.7/dist-packages (from mlxtend<0.17,>=0.13->responsibly) (57.0.0)\n",
      "\u001b[31mERROR: plotnine 0.6.0 has requirement matplotlib>=3.1.1, but you'll have matplotlib 2.2.5 which is incompatible.\u001b[0m\n",
      "\u001b[31mERROR: mizani 0.6.0 has requirement matplotlib>=3.1.1, but you'll have matplotlib 2.2.5 which is incompatible.\u001b[0m\n",
      "\u001b[31mERROR: arviz 0.11.2 has requirement matplotlib>=3.0, but you'll have matplotlib 2.2.5 which is incompatible.\u001b[0m\n",
      "\u001b[31mERROR: albumentations 0.1.12 has requirement imgaug<0.2.7,>=0.2.5, but you'll have imgaug 0.2.9 which is incompatible.\u001b[0m\n",
      "Installing collected packages: gensim, matplotlib, responsibly\n",
      "Successfully installed gensim-3.7.3 matplotlib-2.2.5 responsibly-0.1.3\n"
     ]
    },
    {
     "data": {
      "application/vnd.colab-display-data+json": {
       "pip_warning": {
        "packages": [
         "matplotlib",
         "mpl_toolkits"
        ]
       }
      }
     },
     "metadata": {
      "tags": []
     },
     "output_type": "display_data"
    }
   ],
   "source": [
    "%pip install --user responsibly"
   ]
  },
  {
   "cell_type": "markdown",
   "metadata": {
    "id": "7KVoylBYC3u0"
   },
   "source": [
    "\n",
    "**Restart** the Kernel/Runtime (use the menu on top or the botton in the notebook), **skip** the installation cell (`!pip install --user responsibly`) and **run** the cell below (`import responsibly`)"
   ]
  },
  {
   "cell_type": "markdown",
   "metadata": {
    "id": "rU1uolhsC3u0"
   },
   "source": [
    "## 🛠️Validate the installation"
   ]
  },
  {
   "cell_type": "code",
   "execution_count": 53,
   "metadata": {
    "colab": {
     "base_uri": "https://localhost:8080/",
     "height": 35
    },
    "id": "E63RXd26C3u0",
    "outputId": "b1c2174d-780c-4aab-bbc4-66d5400e6057"
   },
   "outputs": [
    {
     "data": {
      "text/plain": [
       "'0.1.3'"
      ]
     },
     "execution_count": 53,
     "metadata": {},
     "output_type": "execute_result"
    }
   ],
   "source": [
    "import responsibly\n",
    "\n",
    "# You should get '0.1.3'\n",
    "responsibly.__version__\n"
   ]
  },
  {
   "cell_type": "code",
   "execution_count": 54,
   "metadata": {
    "id": "oNwtwpu6A3G4"
   },
   "outputs": [],
   "source": [
    "import warnings\n",
    "warnings.filterwarnings('ignore')"
   ]
  },
  {
   "cell_type": "markdown",
   "metadata": {
    "id": "U7PbQUuTIFSS"
   },
   "source": [
    "# Part 1: Playing with Word Embeddings"
   ]
  },
  {
   "cell_type": "markdown",
   "metadata": {
    "id": "0pCZrVekC3u2"
   },
   "source": [
    "## 1.1 Introduction and references\n",
    "\n",
    "When it comes to language modeling, it is clear that words are not that easy to represent in a way that captures the complexity of human language. In the case of images, for example, we translate a picture into vectors which represents pixels and their intensity, color, brightness, etc. We transform an image into a mathematical object that computers can manipulate. So, how can we represent words in a machine-usable way?\n",
    "\n",
    "There are many ways to do so, but in this tutorial we will be focusing on word embeddings. A word embedding is a learned representation for text where words that have similar meanings tend to have similar representations. But what does it mean that words have similar meanings? How can we \"teach\" that to a computer?\n",
    "\n",
    "\n",
    "**Distributional Hypothesis**\n",
    "\n",
    "> \"a word is characterized by the company it keeps\" - [John Rupert Firth](https://en.wikipedia.org/wiki/John_Rupert_Firth)\n",
    "\n",
    "Based on this hypothesis, word embeddings aim to represent words characterizing them by their contexts of occurrence, roughly following these steps:\n",
    "\n",
    "1. Gather huge amounts of text, say, all Wikipedia articles; then\n",
    "2. break text down into all possible substrings, using a sliding window along text;\n",
    "3. consider each substring as a training example for a neural network. This network tries to learn how to predict the context given one of the words in the substring, or it tries to predict one of the words given the context, that is, the rest of the words in the substring;\n",
    "4. once a neural network is trained with such examples, take the last-but-one layer as the space where words will be now represented, so that each neuron in that layer is a dimension of the embedding space.\n",
    "\n",
    "If you are curious about the details, [this post gives a very understandable visual introduction and pointers to reference work](http://jalammar.github.io/illustrated-word2vec/). \n",
    "\n",
    "It is important to note that, since embeddings are obtained from text created by people, they will naturally reflect their biases and prejudices. They should not be viewed as objective or neutral, but rather as a social construct, with the complexities of our societies."
   ]
  },
  {
   "cell_type": "markdown",
   "metadata": {
    "id": "NiqGEbVsCUN6"
   },
   "source": [
    "## 1.2 Dataset and basic properties\n",
    "\n",
    "The library [`responsibly`](http://docs.responsibly.ai) has the function [`responsibly.we.load_w2v_small`]() which returns  [`KeyedVectors`](https://radimrehurek.com/gensim/models/keyedvectors.html#gensim.models.keyedvectors.KeyedVectors) de [`gensim`](https://radimrehurek.com/gensim/). These word embeddings were trained using Google News: 100B tokens, 3 millon vocabulary, 300 dimensions vectors.\n",
    "\n",
    "For more information: [Word2Vec](https://code.google.com/archive/p/word2vec/) - "
   ]
  },
  {
   "cell_type": "code",
   "execution_count": 55,
   "metadata": {
    "id": "o2yChPuMHPSo"
   },
   "outputs": [],
   "source": [
    "from responsibly.we import load_w2v_small\n",
    "\n",
    "w2v_small = load_w2v_small()"
   ]
  },
  {
   "cell_type": "code",
   "execution_count": 56,
   "metadata": {
    "colab": {
     "base_uri": "https://localhost:8080/"
    },
    "id": "p3mwmab7Fh9v",
    "outputId": "e6ba5e9d-9944-4bc6-9cca-d2ed2a966c4d"
   },
   "outputs": [
    {
     "data": {
      "text/plain": [
       "26423"
      ]
     },
     "execution_count": 56,
     "metadata": {},
     "output_type": "execute_result"
    }
   ],
   "source": [
    "# dataset vocabulary size\n",
    "\n",
    "len(w2v_small.vocab)"
   ]
  },
  {
   "cell_type": "code",
   "execution_count": 57,
   "metadata": {
    "colab": {
     "base_uri": "https://localhost:8080/"
    },
    "id": "bAkayy2RG--n",
    "outputId": "d955725f-16da-4858-b341-6409624117b6"
   },
   "outputs": [
    {
     "name": "stdout",
     "output_type": "stream",
     "text": [
      "small = [ 7.45363e-02  4.48132e-02 -5.85316e-02  4.80142e-02 -1.69193e-02\n",
      " -1.07460e-01  4.50419e-02 -6.99635e-02  7.48793e-03  6.63053e-02\n",
      "  1.86341e-02 -5.35015e-02 -3.84113e-02  6.60195e-03 -4.16123e-02\n",
      "  2.90086e-03 -5.03006e-02  1.90228e-01 -1.27123e-01  3.56677e-02\n",
      " -4.13837e-02  2.04632e-02 -8.04809e-02  1.12033e-02 -5.78457e-02\n",
      " -2.04632e-02 -8.36819e-02  8.07381e-04  2.67508e-02 -3.36099e-02\n",
      " -7.45363e-02 -1.43471e-02  3.40672e-02 -5.69311e-02 -2.44644e-02\n",
      " -8.64255e-02  1.65763e-02  4.57278e-02  5.74455e-03  3.88686e-02\n",
      "  2.86942e-02  1.18892e-01  9.66000e-03  6.43047e-03 -1.33182e-02\n",
      "  2.84656e-02 -3.61250e-02  2.58362e-02  1.33182e-02 -1.06546e-01\n",
      " -7.18069e-04 -6.63053e-02  2.50360e-02 -4.41273e-02 -6.95063e-02\n",
      "  8.80260e-03  2.60648e-02 -1.05746e-02 -1.44614e-02 -4.00118e-02\n",
      "  3.65822e-03  1.31696e-01 -1.09747e-01 -1.09747e-01  4.34414e-02\n",
      " -4.70996e-02  1.62334e-02  5.94461e-02 -1.16606e-02  9.00838e-02\n",
      "  4.77855e-02 -8.23100e-02  6.49335e-02  2.67936e-05 -1.28952e-01\n",
      "  2.72080e-02 -2.18350e-02  1.78338e-02 -4.36700e-02 -6.34473e-03\n",
      "  5.00719e-02 -1.87484e-02 -4.52705e-02  4.50419e-02 -6.08180e-02\n",
      " -1.25294e-01 -5.76170e-02  7.13354e-02  1.01973e-01  3.22381e-02\n",
      " -4.29841e-02 -1.28038e-02 -1.21179e-02 -4.13837e-02 -2.65221e-02\n",
      "  6.21898e-02 -3.85828e-03 -6.44762e-02 -9.74002e-02 -5.09865e-02\n",
      " -3.65822e-02 -3.40672e-02  9.43136e-03 -4.91574e-02  1.97773e-02\n",
      "  8.55110e-02  7.49936e-02  5.99034e-02  1.28952e-01 -1.05174e-01\n",
      "  9.37420e-03 -6.35616e-02 -5.62452e-02 -3.86400e-02  1.26895e-02\n",
      "  1.22893e-02  4.27555e-02  4.71568e-03  9.60284e-02  3.68109e-02\n",
      "  8.00236e-03 -4.00118e-02 -8.59682e-02 -2.74367e-02 -2.25209e-02\n",
      "  8.55110e-02  2.43501e-02 -3.79541e-02  4.54992e-02  3.65822e-03\n",
      "  2.95802e-03  1.35469e-02  6.81344e-02  1.15234e-01  8.00236e-02\n",
      "  2.88085e-02 -1.40613e-02 -3.31527e-02  2.52646e-02 -8.87119e-02\n",
      " -3.58963e-02 -8.41391e-02  5.30442e-02 -5.37302e-02  8.18099e-04\n",
      " -4.06977e-02 -8.18527e-02 -1.50902e-02  1.44614e-02 -1.30324e-02\n",
      "  3.37242e-03 -4.66423e-02 -6.58480e-02  3.49818e-02 -6.34473e-03\n",
      "  1.33182e-02  2.60648e-02  2.97231e-02 -7.86518e-02  4.96147e-02\n",
      " -5.19010e-02  3.29240e-02 -4.70996e-02 -3.33813e-02  1.46329e-01\n",
      " -3.08663e-02  7.08781e-02 -8.45964e-03 -2.21780e-02 -1.02888e-01\n",
      " -8.23100e-02 -6.90490e-02 -5.31586e-03 -9.00838e-02  2.35498e-02\n",
      "  2.18350e-02  6.72199e-02  3.74968e-02 -1.39470e-02  6.53907e-02\n",
      "  2.02345e-02 -9.23701e-02 -8.27673e-02 -7.64512e-04 -5.73884e-02\n",
      " -2.53789e-02  1.47472e-02  1.36469e-03  1.32039e-02  4.52705e-02\n",
      " -2.37785e-02 -4.91574e-03 -3.26954e-02 -6.08180e-02 -8.45964e-02\n",
      " -1.26895e-02 -7.40790e-02 -1.00144e-01  1.41470e-03 -2.88085e-02\n",
      "  9.74002e-02  6.49335e-02  7.54509e-02 -8.41391e-02 -2.07204e-03\n",
      " -2.97231e-02  3.22953e-03 -2.08633e-03 -9.92293e-02 -7.77372e-02\n",
      " -3.22381e-02  3.79541e-02 -1.30896e-02  1.82911e-02 -3.36099e-02\n",
      "  9.37420e-02  8.04809e-02 -4.02405e-02 -6.53907e-02  2.35498e-02\n",
      "  7.22499e-02  1.02430e-01 -9.46565e-02 -1.35354e-01 -1.28952e-01\n",
      " -4.59564e-02  8.55110e-02  1.45186e-02  4.68710e-03 -1.60047e-02\n",
      "  2.97231e-02 -1.18892e-02 -1.32611e-02  5.60165e-02 -5.25870e-02\n",
      " -9.05410e-02  2.13777e-02  7.08781e-03 -1.92057e-02  2.22923e-02\n",
      "  3.33813e-02 -3.35813e-03 -2.94944e-02  1.49759e-02  3.42958e-02\n",
      " -1.12033e-01  4.27555e-02 -2.04632e-02  6.81344e-02 -5.30442e-02\n",
      "  8.11668e-03 -4.62994e-03  1.41756e-01 -9.31704e-03  7.40790e-02\n",
      "  3.01803e-02  7.94520e-03  2.65221e-02 -5.78457e-02  2.88085e-02\n",
      "  4.62994e-03 -1.22550e-01 -5.76170e-02  5.73884e-02 -4.04691e-02\n",
      "  2.20637e-02 -5.14438e-02  1.52045e-02 -9.64857e-02 -1.57761e-02\n",
      " -1.46472e-03  5.23583e-02  2.35498e-02 -1.88627e-02 -6.45905e-03\n",
      " -1.06088e-01  1.60047e-02 -5.78457e-02  5.16724e-02 -7.68227e-02\n",
      " -4.11550e-02  4.54420e-03  6.35616e-02 -1.49759e-02 -8.96265e-02\n",
      " -6.14467e-04 -1.41756e-01  9.54568e-03 -8.77974e-02  2.55790e-03\n",
      " -8.27673e-02 -7.00207e-03 -1.29753e-02 -6.53907e-02  8.91692e-03\n",
      "  5.89889e-02  5.65881e-03  1.36269e-01  1.13176e-02 -5.30442e-02]\n"
     ]
    }
   ],
   "source": [
    "# get the vector of the word \"love\"\n",
    "\n",
    "print('small =', w2v_small['small'])"
   ]
  },
  {
   "cell_type": "markdown",
   "metadata": {
    "id": "ZkaSBw8-L4cX"
   },
   "source": [
    "There is not much to see for us humans. While really useful, are not easily interpretable. The encoding of the semantics of the word is not transparent to us users, there is not a direct relationship between the value of the vector coordinate and a particular word meaning. They encode lots of information in a sort of criptic way. So, is there a way to detect/diagnose/observe bias in word embeddings?"
   ]
  },
  {
   "cell_type": "markdown",
   "metadata": {
    "id": "bhXogvjGHdit"
   },
   "source": [
    "## 1.3 Measuring distance between words\n",
    "\n",
    "### Measure of Similiarty: [Cosine Similariy](https://en.wikipedia.org/wiki/Cosine_similarity)\n",
    "- Measures the cosine of the angle between two vectors.\n",
    "- Ranges between 1 (same vector) to -1 (opposite vector)"
   ]
  },
  {
   "cell_type": "code",
   "execution_count": 5,
   "metadata": {
    "colab": {
     "base_uri": "https://localhost:8080/"
    },
    "id": "d-7nbBcsHPSo",
    "outputId": "4c038aec-23d6-4697-a124-05946226ab10"
   },
   "outputs": [
    {
     "data": {
      "text/plain": [
       "1.0000006"
      ]
     },
     "execution_count": 5,
     "metadata": {},
     "output_type": "execute_result"
    }
   ],
   "source": [
    "w2v_small['cat'] @ w2v_small['cat']"
   ]
  },
  {
   "cell_type": "code",
   "execution_count": 6,
   "metadata": {
    "colab": {
     "base_uri": "https://localhost:8080/"
    },
    "id": "jgPVPnfsIj-d",
    "outputId": "23f41f8f-2147-4421-8e26-50c90a881c45"
   },
   "outputs": [
    {
     "data": {
      "text/plain": [
       "0.8099383"
      ]
     },
     "execution_count": 6,
     "metadata": {},
     "output_type": "execute_result"
    }
   ],
   "source": [
    "w2v_small['cat'] @ w2v_small['cats']"
   ]
  },
  {
   "cell_type": "code",
   "execution_count": 7,
   "metadata": {
    "colab": {
     "base_uri": "https://localhost:8080/"
    },
    "id": "yBUuXExdImLN",
    "outputId": "c7d2cc47-5e8b-4651-a49d-59ab01a8304d"
   },
   "outputs": [
    {
     "data": {
      "text/plain": [
       "0.76094615"
      ]
     },
     "execution_count": 7,
     "metadata": {},
     "output_type": "execute_result"
    }
   ],
   "source": [
    "w2v_small['cat'] @ w2v_small['dog']"
   ]
  },
  {
   "cell_type": "code",
   "execution_count": 8,
   "metadata": {
    "colab": {
     "base_uri": "https://localhost:8080/"
    },
    "id": "m18k2bP1IpmY",
    "outputId": "b53e6431-56fe-4fe1-e0da-8c7bc3adef75"
   },
   "outputs": [
    {
     "data": {
      "text/plain": [
       "0.3814792"
      ]
     },
     "execution_count": 8,
     "metadata": {},
     "output_type": "execute_result"
    }
   ],
   "source": [
    "w2v_small['cat'] @ w2v_small['horse']"
   ]
  },
  {
   "cell_type": "code",
   "execution_count": 9,
   "metadata": {
    "colab": {
     "base_uri": "https://localhost:8080/"
    },
    "id": "TZ3Os5n3IusO",
    "outputId": "30ba7122-06af-49a0-f21e-a7a7be3be3be"
   },
   "outputs": [
    {
     "data": {
      "text/plain": [
       "-0.037760377"
      ]
     },
     "execution_count": 9,
     "metadata": {},
     "output_type": "execute_result"
    }
   ],
   "source": [
    "w2v_small['cat'] @ w2v_small['finance']"
   ]
  },
  {
   "cell_type": "code",
   "execution_count": 10,
   "metadata": {
    "colab": {
     "base_uri": "https://localhost:8080/"
    },
    "id": "hOqF6_g9MKbk",
    "outputId": "b1fcf49b-f89b-444b-ea53-3f8fdd771fb3"
   },
   "outputs": [
    {
     "data": {
      "text/plain": [
       "[('cats', 0.8099379539489746),\n",
       " ('dog', 0.7609457969665527),\n",
       " ('kitten', 0.7464984059333801),\n",
       " ('feline', 0.7326232194900513),\n",
       " ('puppy', 0.707545280456543)]"
      ]
     },
     "execution_count": 10,
     "metadata": {},
     "output_type": "execute_result"
    }
   ],
   "source": [
    "w2v_small.most_similar('cat', topn=5)"
   ]
  },
  {
   "cell_type": "markdown",
   "metadata": {
    "id": "RGM-q7TLRm7N"
   },
   "source": [
    "###Let's find \"the odd one out\""
   ]
  },
  {
   "cell_type": "code",
   "execution_count": 11,
   "metadata": {
    "colab": {
     "base_uri": "https://localhost:8080/",
     "height": 35
    },
    "id": "5zgV7HPmPJbQ",
    "outputId": "a558cd03-ec46-49f2-efaf-c50323bf7580"
   },
   "outputs": [
    {
     "data": {
      "text/plain": [
       "'nurse'"
      ]
     },
     "execution_count": 11,
     "metadata": {},
     "output_type": "execute_result"
    }
   ],
   "source": [
    "w2v_small.doesnt_match('hairdresser nurse man woman housekeeper personal_trainer'.split())"
   ]
  },
  {
   "cell_type": "code",
   "execution_count": 12,
   "metadata": {
    "colab": {
     "base_uri": "https://localhost:8080/",
     "height": 35
    },
    "id": "lJHjGaBjWSb9",
    "outputId": "04ea5a47-c134-485c-c2e7-cdc15c8204b2"
   },
   "outputs": [
    {
     "data": {
      "text/plain": [
       "'manager'"
      ]
     },
     "execution_count": 12,
     "metadata": {},
     "output_type": "execute_result"
    }
   ],
   "source": [
    "w2v_small.doesnt_match('hairdresser nurse man woman housekeeper manager'.split())"
   ]
  },
  {
   "cell_type": "code",
   "execution_count": 13,
   "metadata": {
    "colab": {
     "base_uri": "https://localhost:8080/",
     "height": 35
    },
    "id": "WVEqp38MRwg4",
    "outputId": "1b36e364-af96-4180-eae8-09874b0ad5ce"
   },
   "outputs": [
    {
     "data": {
      "text/plain": [
       "'manager'"
      ]
     },
     "execution_count": 13,
     "metadata": {},
     "output_type": "execute_result"
    }
   ],
   "source": [
    "w2v_small.doesnt_match('hairdresser nurse man men housekeeper manager'.split())"
   ]
  },
  {
   "cell_type": "code",
   "execution_count": 14,
   "metadata": {
    "colab": {
     "base_uri": "https://localhost:8080/",
     "height": 35
    },
    "id": "F2A2TpWwYLmI",
    "outputId": "97b47625-7b76-4e55-9ccc-f239af302dd6"
   },
   "outputs": [
    {
     "data": {
      "text/plain": [
       "'manager'"
      ]
     },
     "execution_count": 14,
     "metadata": {},
     "output_type": "execute_result"
    }
   ],
   "source": [
    "w2v_small.doesnt_match('hairdresser nurse woman women housekeeper manager'.split())"
   ]
  },
  {
   "cell_type": "markdown",
   "metadata": {
    "id": "s1vX3TKdv-6P"
   },
   "source": [
    "## 1.4 Visualization of Word Embedding using T-SNE\n",
    "\n",
    "Below you can find a visualization of word embeddings, a projection of a 300-dimensional embedding to a two-dimensional space. We can see that words with similar meanings tend to be close, like \"*yesterday*\", \"*summer*\" or \"*morning*\", \"*ever*\" and \"*never*\", \"*started*\" and \"*began*\"..."
   ]
  },
  {
   "cell_type": "code",
   "execution_count": 15,
   "metadata": {
    "colab": {
     "base_uri": "https://localhost:8080/",
     "height": 668
    },
    "id": "TDhPnNz5Lnfb",
    "outputId": "14513e0a-4c5a-4d9c-fc26-fdae2f2a5606"
   },
   "outputs": [
    {
     "data": {
      "image/png": "[encoded data removed]",
      "text/plain": [
       "<Figure size 1440x1440 with 1 Axes>"
      ]
     },
     "metadata": {
      "needs_background": "light"
     },
     "output_type": "display_data"
    }
   ],
   "source": [
    "from sklearn.manifold import TSNE\n",
    "from matplotlib import pylab as plt\n",
    "\n",
    "# take the most common words in the corpus between 200 and 600\n",
    "words = [word for word in w2v_small.index2word[200:600]]\n",
    "\n",
    "# convert the words to vectors\n",
    "embeddings = [w2v_small[word] for word in words]\n",
    "\n",
    "# perform T-SNE\n",
    "words_embedded = TSNE(n_components=2).fit_transform(embeddings)\n",
    "\n",
    "# ... and visualize!\n",
    "plt.figure(figsize=(20, 20))\n",
    "for i, label in enumerate(words):\n",
    "    x, y = words_embedded[i, :]\n",
    "    plt.scatter(x, y)\n",
    "    plt.annotate(label, xy=(x, y), xytext=(5, 2), textcoords='offset points',\n",
    "                 ha='right', va='bottom', size=11)\n",
    "plt.show()"
   ]
  },
  {
   "cell_type": "markdown",
   "metadata": {
    "id": "L4jB1Ex7FeJ5"
   },
   "source": [
    "To get a grasp on some basic embeddings properties, check [this notebook](https://colab.research.google.com/drive/1oCTFCSSkB08_ASWDkpsFYzjW3PvbI60b?usp=sharing)"
   ]
  },
  {
   "cell_type": "markdown",
   "metadata": {
    "id": "O9Q-3tQdC3u_"
   },
   "source": [
    "## 1.5 Vector analogies\n",
    "\n",
    "One interesting property about word embeddings is that we can easily generate analogies. How do we do that? For example, if we want to obtain an analogy of the form \"*man is to king as woman is to ?*\", we substract \"*man*\" from \"*king + woman*\". \n",
    "Intuitively, we are factoring out the \"*man*\" part of the combination between a king and a woman."
   ]
  },
  {
   "cell_type": "markdown",
   "metadata": {
    "id": "vTl21bZiC3u_"
   },
   "source": [
    "<img src=\"https://github.com/ResponsiblyAI/word-embedding/blob/main/images/linear-relationships.png?raw=1\" />\n",
    "\n",
    "<small>Source: [Tensorflow Documentation](https://www.tensorflow.org/tutorials/representation/word2vec)</small>"
   ]
  },
  {
   "cell_type": "markdown",
   "metadata": {
    "id": "z3b91gWTzvYJ"
   },
   "source": [
    "\n",
    "Keep in mind the word embedding was generated by learning the co-occurrence of words, so the fact that it *empirically* exhibit \"concept arithmetic\", it doesn't necessarily mean it learned meaning! In fact, it seems it didn't, but rather, it seems it learns how words behave but not the meaning they convey.\n",
    "See: [king - man + woman is queen; but why? by Piotr Migdał](https://p.migdal.pl/2017/01/06/king-man-woman-queen-why.html)"
   ]
  },
  {
   "cell_type": "markdown",
   "metadata": {
    "id": "i9rqEENs0B-M"
   },
   "source": [
    "With these vectors, we can perform the kind of arithmetic operations described above:"
   ]
  },
  {
   "cell_type": "code",
   "execution_count": 58,
   "metadata": {
    "colab": {
     "base_uri": "https://localhost:8080/"
    },
    "id": "9gwM2qSOl7Jp",
    "outputId": "9486f216-d2d6-43fe-a3a8-da1c425c2ed4"
   },
   "outputs": [
    {
     "data": {
      "text/plain": [
       "[('better', 0.7270160913467407), ('stronger', 0.5597214698791504)]"
      ]
     },
     "execution_count": 58,
     "metadata": {},
     "output_type": "execute_result"
    }
   ],
   "source": [
    "# small is to smaller as good is to what?\n",
    "w2v_small.most_similar(positive=['good', 'smaller'], negative=['small'], topn=2)"
   ]
  },
  {
   "cell_type": "code",
   "execution_count": 61,
   "metadata": {},
   "outputs": [
    {
     "data": {
      "text/plain": [
       "[('textbooks', 0.5776058435440063), ('books', 0.38853728771209717)]"
      ]
     },
     "execution_count": 61,
     "metadata": {},
     "output_type": "execute_result"
    }
   ],
   "source": [
    "w2v_small.most_similar(positive=['textbook', 'smaller'], negative=['small'], topn=2)"
   ]
  },
  {
   "cell_type": "code",
   "execution_count": 62,
   "metadata": {},
   "outputs": [
    {
     "data": {
      "text/plain": [
       "[('computers', 0.5134012699127197), ('laptop_computer', 0.47052162885665894)]"
      ]
     },
     "execution_count": 62,
     "metadata": {},
     "output_type": "execute_result"
    }
   ],
   "source": [
    "w2v_small.most_similar(positive=['computer', 'beautiful'], negative=['ugly'], topn=2)"
   ]
  },
  {
   "cell_type": "code",
   "execution_count": 63,
   "metadata": {},
   "outputs": [
    {
     "data": {
      "text/plain": [
       "[('gardens', 0.6007475852966309), ('gardening', 0.48624253273010254)]"
      ]
     },
     "execution_count": 63,
     "metadata": {},
     "output_type": "execute_result"
    }
   ],
   "source": [
    "w2v_small.most_similar(positive=['garden', 'king'], negative=['queen'], topn=2)"
   ]
  },
  {
   "cell_type": "code",
   "execution_count": 59,
   "metadata": {
    "colab": {
     "base_uri": "https://localhost:8080/"
    },
    "id": "N4cVRxWRUhmX",
    "outputId": "40f294ae-5a9a-4a2c-9895-4ec3c92ef7f5"
   },
   "outputs": [
    {
     "data": {
      "text/plain": [
       "[('schoolteacher', 0.5909147262573242), ('homemaker', 0.5572819113731384)]"
      ]
     },
     "execution_count": 59,
     "metadata": {},
     "output_type": "execute_result"
    }
   ],
   "source": [
    "# man is to carpenter as woman is to what?\n",
    "\n",
    "w2v_small.most_similar(positive=['carpenter', 'woman'], negative=['men'], topn=2)"
   ]
  },
  {
   "cell_type": "markdown",
   "metadata": {
    "id": "RbiFSeRmPo0R"
   },
   "source": [
    "With these analogies we can start **exploring** our embedding to detect possible harmful bias."
   ]
  },
  {
   "cell_type": "markdown",
   "metadata": {
    "id": "jvOi3PHfNmoy"
   },
   "source": [
    "# Part 2: Diagnosing Gender Bias\n",
    "\n",
    "Given that the representation of a word in an embedding space is a vector, how can we **observe** bias? Can vectors be biased? What does that even mean?"
   ]
  },
  {
   "cell_type": "markdown",
   "metadata": {
    "id": "VFoKGcr2C3vA"
   },
   "source": [
    "## 2.1 Words with mophological gender\n",
    "\n",
    "There are many words that are gender marked in their form, for example, \"*brother-sister*\". These words convey gender through their morphology. They do not necessarily reflect a stereotype, but a morphological characteristic of the words. Other words that convey gender are queen-king, mother-father, waiter-waitress."
   ]
  },
  {
   "cell_type": "code",
   "execution_count": 66,
   "metadata": {
    "colab": {
     "base_uri": "https://localhost:8080/"
    },
    "id": "mzHt7krQC3vB",
    "outputId": "748ab8c6-690f-4fd8-93ec-8d51e2d4ff42"
   },
   "outputs": [
    {
     "data": {
      "text/plain": [
       "[('brother', 0.7627110481262207),\n",
       " ('younger_brother', 0.685613214969635),\n",
       " ('cousin', 0.6685015559196472),\n",
       " ('uncle', 0.6580698490142822),\n",
       " ('nephew', 0.65260249376297)]"
      ]
     },
     "execution_count": 66,
     "metadata": {},
     "output_type": "execute_result"
    }
   ],
   "source": [
    "# She is to sister as he is to what?\n",
    "# sister - she + he = ?\n",
    "\n",
    "w2v_small.most_similar(positive=['sister', 'he'], negative=['she'], topn=5)"
   ]
  },
  {
   "cell_type": "markdown",
   "metadata": {
    "id": "JmdyMQbBC3vB"
   },
   "source": [
    "## 2.2 Words with gender stereotypes \n",
    "\n",
    "In contrast, some words do not have a gender meaning morphologically, but are associated gender meanings by sterotyped usage. This happens because the contexts of occurrence of such words are biased toward some specific gender, reflecting how people actually use those words. Some words representing professions are markedly biased with respect to gender, because they tend to be associated to male or female roles. Here we here we explore such words the analogy mechanism."
   ]
  },
  {
   "cell_type": "code",
   "execution_count": 67,
   "metadata": {
    "colab": {
     "base_uri": "https://localhost:8080/"
    },
    "id": "1Lq26hcCC3vB",
    "outputId": "c5469bc0-4885-4f88-f138-fabfb61bfc61"
   },
   "outputs": [
    {
     "data": {
      "text/plain": [
       "[('architect', 0.6232569813728333),\n",
       " ('carpenter', 0.46738606691360474),\n",
       " ('painter', 0.4598923623561859),\n",
       " ('restaurateur', 0.4586508870124817)]"
      ]
     },
     "execution_count": 67,
     "metadata": {},
     "output_type": "execute_result"
    }
   ],
   "source": [
    "#She is to interior designer as he is to what?\n",
    "w2v_small.most_similar(positive=['interior_designer', 'he'], negative=['she'], topn=4)"
   ]
  },
  {
   "cell_type": "markdown",
   "metadata": {
    "id": "KVDAu5JbC3vB"
   },
   "source": [
    "Here other female-male stereotypes that you can explore. \n",
    "\n",
    "```\n",
    "nurse-doctor\n",
    "sewing-carpentry\n",
    "volleyball-football\n",
    "interior_designer-architect\n",
    "feminism-conservatism\n",
    "vocalist-guitarist\n",
    "diva-superstar\n",
    "cupcakes-pizzas\n",
    "hairdresser-barber\n",
    "```"
   ]
  },
  {
   "cell_type": "markdown",
   "metadata": {
    "id": "KDLn6n64C3vC"
   },
   "source": [
    "## 2.3 Gender direction\n",
    "\n",
    "Now, let's see an example of how binary meaning can be represented. Let's take our binary representation of the \"*gender*\" meaning.\n",
    "\n",
    "### $\\overrightarrow{she} - \\overrightarrow{he}$\n",
    " "
   ]
  },
  {
   "cell_type": "code",
   "execution_count": 68,
   "metadata": {
    "id": "6Fl65I1vC3vC"
   },
   "outputs": [],
   "source": [
    "from numpy.linalg import norm\n",
    "\n",
    "gender_direction = w2v_small['she'] - w2v_small['he']\n",
    "\n",
    "gender_direction /= norm(gender_direction)"
   ]
  },
  {
   "cell_type": "code",
   "execution_count": 69,
   "metadata": {
    "colab": {
     "base_uri": "https://localhost:8080/"
    },
    "id": "-6uAKJvTC3vC",
    "outputId": "a6acef72-58ec-4277-f869-1fc196023611"
   },
   "outputs": [
    {
     "data": {
      "text/plain": [
       "-0.16785556"
      ]
     },
     "execution_count": 69,
     "metadata": {},
     "output_type": "execute_result"
    }
   ],
   "source": [
    "# the @ operator returns the cosine similarity of 2 normalized vectors\n",
    "gender_direction @ w2v_small['architect']"
   ]
  },
  {
   "cell_type": "code",
   "execution_count": 70,
   "metadata": {
    "colab": {
     "base_uri": "https://localhost:8080/"
    },
    "id": "55MCmDhWC3vC",
    "outputId": "4e3c5209-d4e0-4924-8aad-1a9458a0de7a"
   },
   "outputs": [
    {
     "data": {
      "text/plain": [
       "0.19714224"
      ]
     },
     "execution_count": 70,
     "metadata": {},
     "output_type": "execute_result"
    }
   ],
   "source": [
    "gender_direction @ w2v_small['interior_designer']"
   ]
  },
  {
   "cell_type": "markdown",
   "metadata": {
    "id": "KXoDjjFSC3vD"
   },
   "source": [
    "**⚡Interpret carefully: The word *architect* appears in more contexts with *he* than with *she*, and vice versa for *interior designer*.**"
   ]
  },
  {
   "cell_type": "markdown",
   "metadata": {
    "id": "j6_SqDfEC3vD"
   },
   "source": [
    "In practice, we calculate the direction of the gender meaning subspace not only using \"he\" and \"she\", but using multiple pairs of words that represent each end of the meaning direction. This allows for better estimation, counterweighting the fact that words may have more than one meaning.\n",
    "\n",
    "- woman - man\n",
    "- girl - boy\n",
    "- she - he\n",
    "- mother - father\n",
    "- daughter - son\n",
    "- gal - guy\n",
    "- female - male\n",
    "- her - his\n",
    "- herself - himself\n",
    "- Mary - John\n",
    "\n",
    "Note that **this list of words is a very important input** of the analysis, as it defines the meaning that we are trying to explore!"
   ]
  },
  {
   "cell_type": "markdown",
   "metadata": {
    "id": "HiqVsyXiC3vD"
   },
   "source": [
    "## 2.4 Try some words by yourself\n",
    "Now think about some word: where in the gender direction is it located? nearing which end, and how near?\n",
    "\n",
    "\n",
    "⚡ Keep in mind: You are performing exploratory data analysis, and not a systemic evaluation!"
   ]
  },
  {
   "cell_type": "code",
   "execution_count": 71,
   "metadata": {
    "colab": {
     "base_uri": "https://localhost:8080/"
    },
    "id": "bvnuDrC7C3vD",
    "outputId": "3ffb45c2-16f8-4f9a-f502-cc8b6aa8cffd"
   },
   "outputs": [
    {
     "data": {
      "text/plain": [
       "0.07210897"
      ]
     },
     "execution_count": 71,
     "metadata": {},
     "output_type": "execute_result"
    }
   ],
   "source": [
    "gender_direction @ w2v_small['house']"
   ]
  },
  {
   "cell_type": "code",
   "execution_count": 24,
   "metadata": {
    "colab": {
     "base_uri": "https://localhost:8080/"
    },
    "id": "VUjcCSnLpGI7",
    "outputId": "50bf9b2a-f8b9-4dc3-82e5-2baf9de66db9"
   },
   "outputs": [
    {
     "data": {
      "text/plain": [
       "-0.016742872"
      ]
     },
     "execution_count": 24,
     "metadata": {},
     "output_type": "execute_result"
    }
   ],
   "source": [
    "gender_direction @ w2v_small['home']"
   ]
  },
  {
   "cell_type": "markdown",
   "metadata": {
    "id": "9DuWu9yVC3vE"
   },
   "source": [
    "## 2.5 Projections in the gender direction"
   ]
  },
  {
   "cell_type": "markdown",
   "metadata": {
    "id": "bYdcit9fw9w_"
   },
   "source": [
    "Now we want to be more systematic in this exploration. \n",
    "\n",
    "We will be using a list of morphologically gender-neutral professions to do that. Gender-neutral words should be equally distant from both ends in the gender direction. We say that their bias should be around 0, and again we have a high-level construct to model that:"
   ]
  },
  {
   "cell_type": "code",
   "execution_count": 25,
   "metadata": {
    "id": "ucDbQ13uC3vE"
   },
   "outputs": [],
   "source": [
    "from responsibly.we import GenderBiasWE\n",
    "\n",
    "w2v_small_gender_bias = GenderBiasWE(w2v_small, only_lower=True)"
   ]
  },
  {
   "cell_type": "code",
   "execution_count": 26,
   "metadata": {
    "colab": {
     "base_uri": "https://localhost:8080/"
    },
    "id": "wOy5EDmRC3vE",
    "outputId": "cd9b1f37-ffae-4580-8ae8-ebc2f0bb43dc"
   },
   "outputs": [
    {
     "data": {
      "text/plain": [
       "('she', 'he')"
      ]
     },
     "execution_count": 26,
     "metadata": {},
     "output_type": "execute_result"
    }
   ],
   "source": [
    "w2v_small_gender_bias.positive_end, w2v_small_gender_bias.negative_end"
   ]
  },
  {
   "cell_type": "code",
   "execution_count": 27,
   "metadata": {
    "colab": {
     "base_uri": "https://localhost:8080/"
    },
    "id": "NzlmJWFdC3vE",
    "outputId": "f653d854-e229-4a7f-aa2a-5ac2b0ae8b53"
   },
   "outputs": [
    {
     "data": {
      "text/plain": [
       "array([-0.10056252, -0.09987912, -0.05384335,  0.00480521,  0.01521063,\n",
       "       -0.01666582,  0.00932551, -0.00625998, -0.11320096,  0.03992424])"
      ]
     },
     "execution_count": 27,
     "metadata": {},
     "output_type": "execute_result"
    }
   ],
   "source": [
    "# gender direction\n",
    "w2v_small_gender_bias.direction[:10]"
   ]
  },
  {
   "cell_type": "code",
   "execution_count": 28,
   "metadata": {
    "id": "KI8U2QhCC3vE"
   },
   "outputs": [],
   "source": [
    "# list of gender neutral professions\n",
    "from responsibly.we.data import BOLUKBASI_DATA\n",
    "\n",
    "neutral_profession_names = BOLUKBASI_DATA['gender']['neutral_profession_names']"
   ]
  },
  {
   "cell_type": "code",
   "execution_count": 29,
   "metadata": {
    "colab": {
     "base_uri": "https://localhost:8080/"
    },
    "id": "tAHD1RdXC3vF",
    "outputId": "8999853d-feb5-4c65-ff6c-a815613bf90b"
   },
   "outputs": [
    {
     "data": {
      "text/plain": [
       "['accountant',\n",
       " 'acquaintance',\n",
       " 'actor',\n",
       " 'adjunct_professor',\n",
       " 'administrator',\n",
       " 'adventurer',\n",
       " 'advocate',\n",
       " 'aide']"
      ]
     },
     "execution_count": 29,
     "metadata": {},
     "output_type": "execute_result"
    }
   ],
   "source": [
    "neutral_profession_names[:8]"
   ]
  },
  {
   "cell_type": "markdown",
   "metadata": {
    "id": "loqvR0qUC3vF"
   },
   "source": [
    "Note: Why `actor` is in the neutral profession names list while `actress` is not there?\n",
    "1. Due to the statistical nature of the method that is used to find the gender- specific and natural words\n",
    "2. That might be because `actor` nowadays is much more gender-neutral, compared to waiter-waitress (see [Wikipedia - The term Actress](https://en.wikipedia.org/wiki/Actor#The_term_actress))"
   ]
  },
  {
   "cell_type": "code",
   "execution_count": 30,
   "metadata": {
    "colab": {
     "base_uri": "https://localhost:8080/"
    },
    "id": "fLgkcOuGC3vF",
    "outputId": "e9ff166c-01d2-4a26-bceb-520561843ca8"
   },
   "outputs": [
    {
     "data": {
      "text/plain": [
       "303"
      ]
     },
     "execution_count": 30,
     "metadata": {},
     "output_type": "execute_result"
    }
   ],
   "source": [
    "len(neutral_profession_names)"
   ]
  },
  {
   "cell_type": "code",
   "execution_count": 31,
   "metadata": {
    "colab": {
     "base_uri": "https://localhost:8080/"
    },
    "id": "qby3XDrfC3vF",
    "outputId": "c5ecf755-6396-4c7f-bc13-9abb35a88bff"
   },
   "outputs": [
    {
     "data": {
      "text/plain": [
       "0.00842165762944282"
      ]
     },
     "execution_count": 31,
     "metadata": {},
     "output_type": "execute_result"
    }
   ],
   "source": [
    "# the same of using the @ operator on the bias direction\n",
    "\n",
    "w2v_small_gender_bias.project_on_direction(neutral_profession_names[0])"
   ]
  },
  {
   "cell_type": "markdown",
   "metadata": {
    "id": "th7UryxdC3vF"
   },
   "source": [
    "Let's visualize the projections of professions (neutral and specific by the orthography) on the gender direction:"
   ]
  },
  {
   "cell_type": "code",
   "execution_count": 32,
   "metadata": {
    "colab": {
     "base_uri": "https://localhost:8080/",
     "height": 615
    },
    "id": "juiycs76C3vF",
    "outputId": "5468783f-85fd-4b2c-a29f-076c3ed31cbf"
   },
   "outputs": [
    {
     "data": {
      "image/png": "[encoded data removed]",
      "text/plain": [
       "<Figure size 720x720 with 1 Axes>"
      ]
     },
     "metadata": {
      "needs_background": "light"
     },
     "output_type": "display_data"
    }
   ],
   "source": [
    "import matplotlib.pylab as plt\n",
    "\n",
    "f, ax = plt.subplots(1, figsize=(10, 10))\n",
    "\n",
    "w2v_small_gender_bias.plot_projection_scores(n_extreme=20, ax=ax);"
   ]
  },
  {
   "cell_type": "markdown",
   "metadata": {
    "id": "CUiw8Tjxx6Qh"
   },
   "source": [
    "They do not look very neutral, they edge towards one or the other end of the continuum."
   ]
  },
  {
   "cell_type": "markdown",
   "metadata": {
    "id": "K1MgiofyC3vF"
   },
   "source": [
    "EXTRA: Demo - Visualizing gender bias with [Word Clouds](http://wordbias.umiacs.umd.edu/)"
   ]
  },
  {
   "cell_type": "markdown",
   "metadata": {
    "id": "1IlRykZjC3vG"
   },
   "source": [
    "The projections of occupation words on the gender direction are related to the real world!\n",
    "\n",
    "Garg, N., Schiebinger, L., Jurafsky, D., & Zou, J. (2018). Word embeddings quantify 100 years of gender and ethnic stereotypes. Proceedings of the National Academy of Sciences, 115(16), E3635-E3644."
   ]
  },
  {
   "cell_type": "markdown",
   "metadata": {
    "id": "oas2WYuTng5y"
   },
   "source": [
    "# Part 3: Hands on Mitigating Bias!"
   ]
  },
  {
   "cell_type": "markdown",
   "metadata": {
    "id": "KwZmL19LC3vG"
   },
   "source": [
    "## 3.1 Direct Bias Measure\n",
    "\n",
    "Now that we have modelled the gender direction (with words representing each end) and we have a representation of how an unbiased word embedding would be (via gender-neutral words), we can diagnose bias, in a very simple, systematic way:\n",
    "\n",
    "1. Project each **neutral profession name** on the gender direction\n",
    "2. Calculate the absolute value of each projection\n",
    "3. Average it all"
   ]
  },
  {
   "cell_type": "code",
   "execution_count": 83,
   "metadata": {
    "colab": {
     "base_uri": "https://localhost:8080/"
    },
    "id": "MdXFI9EqC3vG",
    "outputId": "08f6f2df-79dd-4b13-c251-fa33fd3bdd18"
   },
   "outputs": [
    {
     "data": {
      "text/plain": [
       "0.07307905327574778"
      ]
     },
     "execution_count": 83,
     "metadata": {},
     "output_type": "execute_result"
    }
   ],
   "source": [
    "# high-level function to calculate gender bias built into responsibly\n",
    "\n",
    "w2v_small_gender_bias.calc_direct_bias()"
   ]
  },
  {
   "cell_type": "code",
   "execution_count": 84,
   "metadata": {
    "colab": {
     "base_uri": "https://localhost:8080/"
    },
    "id": "MbB7U8IFC3vH",
    "outputId": "9d8fa66b-8449-42df-b1ad-094c672eeb77"
   },
   "outputs": [
    {
     "data": {
      "text/plain": [
       "0.07307905380102783"
      ]
     },
     "execution_count": 84,
     "metadata": {},
     "output_type": "execute_result"
    }
   ],
   "source": [
    "# what responsibly does within the calc_direct_bias function:\n",
    "\n",
    "neutral_profession_projections = [w2v_small[word] @ w2v_small_gender_bias.direction\n",
    "                                  for word in neutral_profession_names]\n",
    "\n",
    "abs_neutral_profession_projections = [abs(proj) for proj in neutral_profession_projections]\n",
    "\n",
    "sum(abs_neutral_profession_projections) / len(abs_neutral_profession_projections)"
   ]
  },
  {
   "cell_type": "markdown",
   "metadata": {
    "id": "Dv_Zav4DC3vH"
   },
   "source": [
    "What are the assumptions of the direct bias measure? How does the choice of neutral words affect the definition of the bias? Can we measure **all** of the gender bias with this technique? \n",
    "\n",
    "An interesing property of this method is that it gives us a quantitative measure of the bias in the embedding, but keep in mind that this number only takes into consideration the bias present in the *assumed neutral* words with respect to the *defined gender direction*, which we agreed was a simplification of the actual phenomenon.\n",
    "\n",
    "What about words that are not in the list? Is this list comprehensive enough?"
   ]
  },
  {
   "cell_type": "markdown",
   "metadata": {
    "id": "x2AxxNoXC3vH"
   },
   "source": [
    "## 3.2 Mitigating gender bias\n",
    "\n",
    "> We intentionally do not reference the resulting embeddings as \"debiased\" or free from all gender bias, and\n",
    "prefer the term \"mitigating bias\" rather that \"debiasing,\" to guard against the misconception that the resulting\n",
    "embeddings are entirely \"safe\" and need not be critically evaluated for bias in downstream tasks. \n",
    "\n",
    "<small>James-Sorenson, H., & Alvarez-Melis, D. (2019). [Probabilistic Bias Mitigation in Word Embeddings](https://arxiv.org/pdf/1910.14497.pdf). arXiv preprint arXiv:1910.14497.</small>"
   ]
  },
  {
   "cell_type": "markdown",
   "metadata": {
    "id": "TlW6-I0vECj5"
   },
   "source": [
    "As an approach to mitigating bias, we will remove the gender projection from the words in the gender-neutral word list and then normalize.\n",
    "\n",
    "This method *needs* a list of gender neutral words to neutralize, or a list of words that are inherently gendered to not neutralize. \n",
    "\n",
    "For this particular example on gender bias, responsibly defines a list of neutral words and neutralizes those words. These words are defined as the complement of the morphologically gendered words, and they are quite a few in English, because English is an [analytic language](https://en.wikipedia.org/wiki/Analytic_language)."
   ]
  },
  {
   "cell_type": "code",
   "execution_count": 85,
   "metadata": {
    "colab": {
     "base_uri": "https://localhost:8080/"
    },
    "id": "pxQfyJHNTnvM",
    "outputId": "b037caeb-f87e-47eb-fed8-783d4267c4ab"
   },
   "outputs": [
    {
     "data": {
      "text/plain": [
       "26189"
      ]
     },
     "execution_count": 85,
     "metadata": {},
     "output_type": "execute_result"
    }
   ],
   "source": [
    "len(w2v_small_gender_bias._data['neutral_words'])"
   ]
  },
  {
   "cell_type": "code",
   "execution_count": 86,
   "metadata": {
    "colab": {
     "base_uri": "https://localhost:8080/"
    },
    "id": "NWuZsuaCSHCO",
    "outputId": "0894569a-e4ed-4ad7-d96c-d1732a0c06d4"
   },
   "outputs": [
    {
     "name": "stdout",
     "output_type": "stream",
     "text": [
      "['normalcy', 'miles_northeast', 'conversions', 'counteract', 'feasible', 'extortion', 'shutout', 'poems', 'illegal_aliens', 'guild']\n"
     ]
    }
   ],
   "source": [
    "import random\n",
    "print(random.sample(w2v_small_gender_bias._data['neutral_words'],10))"
   ]
  },
  {
   "cell_type": "code",
   "execution_count": 87,
   "metadata": {
    "id": "RzIzwzcXC3vH"
   },
   "outputs": [],
   "source": [
    "# we obtain a version of the embeddings that is mitigated wrt the gender direction\n",
    "w2v_small_gender_debias = w2v_small_gender_bias.debias(method='neutralize', inplace=False)"
   ]
  },
  {
   "cell_type": "code",
   "execution_count": 88,
   "metadata": {
    "colab": {
     "base_uri": "https://localhost:8080/"
    },
    "id": "ip3Xbn1JMh2D",
    "outputId": "8378d3aa-3318-40a3-8032-009709cd1c58"
   },
   "outputs": [
    {
     "data": {
      "text/plain": [
       "0.07307905330516772"
      ]
     },
     "execution_count": 88,
     "metadata": {},
     "output_type": "execute_result"
    }
   ],
   "source": [
    "# measure of bias in the original embeddings\n",
    "w2v_small_gender_bias.calc_direct_bias()"
   ]
  },
  {
   "cell_type": "code",
   "execution_count": 89,
   "metadata": {
    "colab": {
     "base_uri": "https://localhost:8080/"
    },
    "id": "hFf08ZQmC3vI",
    "outputId": "8cf0c20f-540e-4bf6-ca50-12c30ebe2577"
   },
   "outputs": [
    {
     "data": {
      "text/plain": [
       "1.1736474293921245e-09"
      ]
     },
     "execution_count": 89,
     "metadata": {},
     "output_type": "execute_result"
    }
   ],
   "source": [
    "# measure of bias in the mitigated embeddings\n",
    "w2v_small_gender_debias.calc_direct_bias()"
   ]
  },
  {
   "cell_type": "code",
   "execution_count": 90,
   "metadata": {
    "colab": {
     "base_uri": "https://localhost:8080/"
    },
    "id": "-sCYRrPPFz1-",
    "outputId": "3cd8cb4a-e924-4493-8044-7366d4c51bab"
   },
   "outputs": [
    {
     "data": {
      "text/plain": [
       "True"
      ]
     },
     "execution_count": 90,
     "metadata": {},
     "output_type": "execute_result"
    }
   ],
   "source": [
    "'home' in (w2v_small_gender_bias._data['neutral_words'])"
   ]
  },
  {
   "cell_type": "code",
   "execution_count": 91,
   "metadata": {
    "colab": {
     "base_uri": "https://localhost:8080/"
    },
    "id": "J3hgtHyxC3vH",
    "outputId": "f52b20ab-24bc-4efe-9d32-7ae1a4070eaa"
   },
   "outputs": [
    {
     "name": "stdout",
     "output_type": "stream",
     "text": [
      "home: before = 0.01134050406494952 after =  -1.7532528276409387e-09\n"
     ]
    }
   ],
   "source": [
    "print('home:',\n",
    "      'before =', w2v_small_gender_bias.model['home'] @ w2v_small_gender_bias.direction,\n",
    "      'after = ', w2v_small_gender_debias.model['home'] @ w2v_small_gender_debias.direction)"
   ]
  },
  {
   "cell_type": "code",
   "execution_count": 92,
   "metadata": {
    "colab": {
     "base_uri": "https://localhost:8080/"
    },
    "id": "SGQMLRoeApNg",
    "outputId": "44dd2b03-dd43-44d9-a0eb-5c2916d655bd"
   },
   "outputs": [
    {
     "name": "stdout",
     "output_type": "stream",
     "text": [
      "architect: before = -0.1773830865770782 after =  2.4647838631208785e-10\n"
     ]
    }
   ],
   "source": [
    "print('architect:',\n",
    "      'before =', w2v_small_gender_bias.model['architect'] @ w2v_small_gender_bias.direction,\n",
    "      'after = ', w2v_small_gender_debias.model['architect'] @ w2v_small_gender_debias.direction)"
   ]
  },
  {
   "cell_type": "code",
   "execution_count": 93,
   "metadata": {
    "colab": {
     "base_uri": "https://localhost:8080/"
    },
    "id": "in7w-yJ_CMG1",
    "outputId": "d3191b57-9e56-4f9b-d382-1e8d3d436c7b"
   },
   "outputs": [
    {
     "name": "stdout",
     "output_type": "stream",
     "text": [
      "interior_designer: before = 0.19845774962417545 after =  -4.941492839916073e-10\n"
     ]
    }
   ],
   "source": [
    "print('interior_designer:',\n",
    "      'before =', w2v_small_gender_bias.model['interior_designer'] @ w2v_small_gender_bias.direction,\n",
    "      'after = ', w2v_small_gender_debias.model['interior_designer'] @ w2v_small_gender_debias.direction)"
   ]
  },
  {
   "cell_type": "code",
   "execution_count": 94,
   "metadata": {
    "colab": {
     "base_uri": "https://localhost:8080/"
    },
    "id": "MDIBHfJsNbVa",
    "outputId": "8f25065d-4b1a-4c70-dbdb-46e9025b9354"
   },
   "outputs": [
    {
     "data": {
      "text/plain": [
       "False"
      ]
     },
     "execution_count": 94,
     "metadata": {},
     "output_type": "execute_result"
    }
   ],
   "source": [
    "'man' in (w2v_small_gender_bias._data['neutral_words'])"
   ]
  },
  {
   "cell_type": "code",
   "execution_count": 95,
   "metadata": {
    "colab": {
     "base_uri": "https://localhost:8080/"
    },
    "id": "IZC7y2I9C3vI",
    "outputId": "3e4c94af-db0a-4c2a-cfc5-2035864a15d2"
   },
   "outputs": [
    {
     "name": "stdout",
     "output_type": "stream",
     "text": [
      "man: before = -0.22095190703926065 after =  -0.22095190703926065\n"
     ]
    }
   ],
   "source": [
    "print('man:',\n",
    "      'before =', w2v_small_gender_bias.model['man'] @ w2v_small_gender_bias.direction,\n",
    "      'after = ', w2v_small_gender_debias.model['man'] @ w2v_small_gender_debias.direction)"
   ]
  },
  {
   "cell_type": "code",
   "execution_count": 96,
   "metadata": {
    "colab": {
     "base_uri": "https://localhost:8080/"
    },
    "id": "mPh777kyC3vI",
    "outputId": "d25662d6-c581-45e1-e0ed-389d1e4a8e4a"
   },
   "outputs": [
    {
     "name": "stdout",
     "output_type": "stream",
     "text": [
      "woman: before = 0.34034749558693556 after =  0.3403474955869356\n"
     ]
    }
   ],
   "source": [
    "print('woman:',\n",
    "      'before =', w2v_small_gender_bias.model['woman'] @ w2v_small_gender_bias.direction,\n",
    "      'after = ', w2v_small_gender_debias.model['woman'] @ w2v_small_gender_debias.direction)"
   ]
  },
  {
   "cell_type": "code",
   "execution_count": 97,
   "metadata": {
    "colab": {
     "base_uri": "https://localhost:8080/",
     "height": 621
    },
    "id": "G3sd0hLUC3vI",
    "outputId": "6db3889a-76bc-493e-8f5d-5a26b2b80d36"
   },
   "outputs": [
    {
     "data": {
      "image/png": "[encoded data removed]",
      "text/plain": [
       "<Figure size 720x720 with 1 Axes>"
      ]
     },
     "metadata": {
      "needs_background": "light"
     },
     "output_type": "display_data"
    }
   ],
   "source": [
    "f, ax = plt.subplots(1, figsize=(10, 10))\n",
    "\n",
    "w2v_small_gender_debias.plot_projection_scores(n_extreme=20, ax=ax);"
   ]
  },
  {
   "cell_type": "markdown",
   "metadata": {
    "id": "OCJLjMTsvR6Y"
   },
   "source": [
    "If you liked this exploration on gender bias, maybe you will want to take a look at an exploration on racial bias in the [original notebook](https://colab.research.google.com/github/ResponsiblyAI/word-embedding/blob/main/tutorial-bias-word-embedding.ipynb)."
   ]
  },
  {
   "cell_type": "markdown",
   "metadata": {
    "id": "c90opOeK-YuJ"
   },
   "source": [
    "# Parte 4: Ahora en castellano!\n",
    "\n",
    "Vamos a ver ahora cómo se trasladan estas técnicas a otro idioma.\n",
    "\n",
    "El castellano es una lengua con varias diferencias con respecto al inglés:\n",
    "- la mayoría de las palabras tienen **género marcado explícitamente en su forma**. Por lo tanto, será difícil obtener una lista de palabras neutras con respecto al género, que responsibly define muy fácilmente para el inglés.\n",
    "- se pueden **omitir los sujetos** de las oraciones, por lo tanto, las ocurrencias de \"*él*\" y \"*ella*\" tendrán una distribución muy diferente que las de \"*he*\" y \"*she*\".\n",
    "\n",
    "Con estas diferencias ¿resultarán efectivas las estrategias desarrolladas para el inglés?\n",
    "\n",
    "Vamos a analizar los [word embeddings para el castellano](http://dcc.uchile.cl/~jperez/word-embeddings/fasttext-sbwc.vec.gz) obtenidos mediante [fastText](https://fasttext.cc/) a partir del [Spanish Billion Words Corpus](https://github.com/crscardellino/sbwce). Este embedding representa 855.380 palabras en 300 dimensiones, obteniendo sus contextos de ocurrencia a partir de 1'4 billones de palabras. Para este ejemplo usaremos solamente las 100000 palabras más frecuentes, así se ejecutará todo más rápido.\n",
    "\n",
    "A diferencia de los embeddings obtenidos con word2vec, los embeddings obtenidos con fastText procesan también cadenas de caracteres dentro de las palabras, lo cual es muy adecuado para modelar lenguas donde las palabras tienen muchas variaciones en la forma, como el castellano, que es una [lengua de tipología fusionante](https://es.wikipedia.org/wiki/Lengua_fusionante). Efectivamente, mientras que en inglés (una [lengua aislante](https://es.wikipedia.org/wiki/Lengua_aislante)) las palabras tienen pocas formas diferentes, en castellano las palabras tienen muchas, porque significados como género, número, o tiempo verbal se expresan como variaciones en la forma de la palabra: \"*escribirá, escribiremos, escribirían*\".\n",
    "\n",
    "Empecemos por obtener datos y librerías."
   ]
  },
  {
   "cell_type": "code",
   "execution_count": 48,
   "metadata": {
    "colab": {
     "base_uri": "https://localhost:8080/"
    },
    "id": "rnNcdmBU-emQ",
    "outputId": "030ddb27-7f11-43e7-fdb0-5ebba10f9f56"
   },
   "outputs": [
    {
     "ename": "SyntaxError",
     "evalue": "invalid syntax (<ipython-input-48-adf6a5eac057>, line 1)",
     "output_type": "error",
     "traceback": [
      "\u001b[1;36m  File \u001b[1;32m\"<ipython-input-48-adf6a5eac057>\"\u001b[1;36m, line \u001b[1;32m1\u001b[0m\n\u001b[1;33m    *# Descargar el modelo e importar librerías necesarias\u001b[0m\n\u001b[1;37m     ^\u001b[0m\n\u001b[1;31mSyntaxError\u001b[0m\u001b[1;31m:\u001b[0m invalid syntax\n"
     ]
    }
   ],
   "source": [
    "*# Descargar el modelo e importar librerías necesarias\n",
    "import numpy as np\n",
    "import logging\n",
    "\n",
    "from numpy.linalg import norm\n",
    "from gensim.models import KeyedVectors\n",
    "from sklearn.metrics import classification_report, accuracy_score\n",
    "\n",
    "logging.basicConfig(format='%(asctime)s : %(message)s', level=logging.INFO)\n",
    "\n",
    "!wget -q http://dcc.uchile.cl/~jperez/word-embeddings/fasttext-sbwc.100k.vec.gz\n",
    "\n",
    "!gzip -d -q fasttext-sbwc.100k.vec.gz\n",
    "!ls"
   ]
  },
  {
   "cell_type": "code",
   "execution_count": 49,
   "metadata": {
    "colab": {
     "base_uri": "https://localhost:8080/"
    },
    "id": "tBIhi_aM-glm",
    "outputId": "885c7f91-2ab7-4370-d83b-c5f97c9cff62"
   },
   "outputs": [
    {
     "ename": "NameError",
     "evalue": "name 'KeyedVectors' is not defined",
     "output_type": "error",
     "traceback": [
      "\u001b[1;31m---------------------------------------------------------------------------\u001b[0m",
      "\u001b[1;31mNameError\u001b[0m                                 Traceback (most recent call last)",
      "\u001b[1;32m<ipython-input-49-b5d2ea226c80>\u001b[0m in \u001b[0;36m<module>\u001b[1;34m\u001b[0m\n\u001b[1;32m----> 1\u001b[1;33m \u001b[0mwe\u001b[0m \u001b[1;33m=\u001b[0m \u001b[0mKeyedVectors\u001b[0m\u001b[1;33m.\u001b[0m\u001b[0mload_word2vec_format\u001b[0m\u001b[1;33m(\u001b[0m\u001b[1;34m'fasttext-sbwc.100k.vec'\u001b[0m\u001b[1;33m)\u001b[0m\u001b[1;33m\u001b[0m\u001b[1;33m\u001b[0m\u001b[0m\n\u001b[0m\u001b[0;32m      2\u001b[0m \u001b[1;31m# Esto normaliza los vectores\u001b[0m\u001b[1;33m\u001b[0m\u001b[1;33m\u001b[0m\u001b[1;33m\u001b[0m\u001b[0m\n\u001b[0;32m      3\u001b[0m \u001b[0mwe\u001b[0m\u001b[1;33m.\u001b[0m\u001b[0minit_sims\u001b[0m\u001b[1;33m(\u001b[0m\u001b[0mreplace\u001b[0m\u001b[1;33m=\u001b[0m\u001b[1;32mTrue\u001b[0m\u001b[1;33m)\u001b[0m\u001b[1;33m\u001b[0m\u001b[1;33m\u001b[0m\u001b[0m\n",
      "\u001b[1;31mNameError\u001b[0m: name 'KeyedVectors' is not defined"
     ]
    }
   ],
   "source": [
    "we = KeyedVectors.load_word2vec_format('fasttext-sbwc.100k.vec')\n",
    "# Esto normaliza los vectores\n",
    "we.init_sims(replace=True)"
   ]
  },
  {
   "cell_type": "code",
   "execution_count": 50,
   "metadata": {
    "id": "SL8LuKQd-kFE"
   },
   "outputs": [
    {
     "ename": "NameError",
     "evalue": "name 'we' is not defined",
     "output_type": "error",
     "traceback": [
      "\u001b[1;31m---------------------------------------------------------------------------\u001b[0m",
      "\u001b[1;31mNameError\u001b[0m                                 Traceback (most recent call last)",
      "\u001b[1;32m<ipython-input-50-9a958bbf379a>\u001b[0m in \u001b[0;36m<module>\u001b[1;34m\u001b[0m\n\u001b[0;32m      3\u001b[0m \u001b[1;32mfrom\u001b[0m \u001b[0mnumpy\u001b[0m\u001b[1;33m.\u001b[0m\u001b[0mtesting\u001b[0m \u001b[1;32mimport\u001b[0m \u001b[0massert_almost_equal\u001b[0m\u001b[1;33m\u001b[0m\u001b[1;33m\u001b[0m\u001b[0m\n\u001b[0;32m      4\u001b[0m \u001b[1;33m\u001b[0m\u001b[0m\n\u001b[1;32m----> 5\u001b[1;33m \u001b[0mlength_vectors\u001b[0m \u001b[1;33m=\u001b[0m \u001b[0mnorm\u001b[0m\u001b[1;33m(\u001b[0m\u001b[0mwe\u001b[0m\u001b[1;33m.\u001b[0m\u001b[0mvectors_norm\u001b[0m\u001b[1;33m,\u001b[0m \u001b[0maxis\u001b[0m\u001b[1;33m=\u001b[0m\u001b[1;36m1\u001b[0m\u001b[1;33m)\u001b[0m\u001b[1;33m\u001b[0m\u001b[1;33m\u001b[0m\u001b[0m\n\u001b[0m\u001b[0;32m      6\u001b[0m \u001b[1;33m\u001b[0m\u001b[0m\n\u001b[0;32m      7\u001b[0m assert_almost_equal(actual=length_vectors,\n",
      "\u001b[1;31mNameError\u001b[0m: name 'we' is not defined"
     ]
    }
   ],
   "source": [
    "# definimos cuándo dos vectores son \"casi iguales\" en este embedding\n",
    "\n",
    "from numpy.testing import assert_almost_equal\n",
    "\n",
    "length_vectors = norm(we.vectors_norm, axis=1)\n",
    "\n",
    "assert_almost_equal(actual=length_vectors,\n",
    "                    desired=1,\n",
    "                    decimal=5)"
   ]
  },
  {
   "cell_type": "markdown",
   "metadata": {
    "id": "WvOvYHV9-3G1"
   },
   "source": [
    "## 4.1 Palabras con estereotipo de género\n",
    "\n",
    "En castellano casi todas las palabras tienen género morfológico explícito, así que vamos a centrarnos directamente en las que reflejan estereotipos de género."
   ]
  },
  {
   "cell_type": "markdown",
   "metadata": {
    "id": "MjGqBHdNyk3M"
   },
   "source": [
    "Vemos que la aritmética de vectores produce unos resultados bastante comparables a los del inglés."
   ]
  },
  {
   "cell_type": "code",
   "execution_count": 51,
   "metadata": {
    "colab": {
     "base_uri": "https://localhost:8080/"
    },
    "id": "0OKYIQWd-wh-",
    "outputId": "3e6e9909-6ecb-4b88-e9da-9b0abf704f22"
   },
   "outputs": [
    {
     "ename": "NameError",
     "evalue": "name 'we' is not defined",
     "output_type": "error",
     "traceback": [
      "\u001b[1;31m---------------------------------------------------------------------------\u001b[0m",
      "\u001b[1;31mNameError\u001b[0m                                 Traceback (most recent call last)",
      "\u001b[1;32m<ipython-input-51-da15c59e4a31>\u001b[0m in \u001b[0;36m<module>\u001b[1;34m\u001b[0m\n\u001b[1;32m----> 1\u001b[1;33m \u001b[0mwe\u001b[0m\u001b[1;33m.\u001b[0m\u001b[0mmost_similar\u001b[0m\u001b[1;33m(\u001b[0m\u001b[0mpositive\u001b[0m\u001b[1;33m=\u001b[0m\u001b[1;33m[\u001b[0m\u001b[1;34m'doctor'\u001b[0m\u001b[1;33m]\u001b[0m\u001b[1;33m,\u001b[0m\u001b[0mnegative\u001b[0m\u001b[1;33m=\u001b[0m\u001b[1;33m[\u001b[0m\u001b[1;34m'mujer'\u001b[0m\u001b[1;33m]\u001b[0m\u001b[1;33m)\u001b[0m\u001b[1;33m\u001b[0m\u001b[1;33m\u001b[0m\u001b[0m\n\u001b[0m",
      "\u001b[1;31mNameError\u001b[0m: name 'we' is not defined"
     ]
    }
   ],
   "source": [
    "we.most_similar(positive=['doctor'],negative=['mujer'])"
   ]
  },
  {
   "cell_type": "code",
   "execution_count": 52,
   "metadata": {
    "colab": {
     "base_uri": "https://localhost:8080/"
    },
    "id": "fpbRUklH-xsM",
    "outputId": "74d64371-7424-45fa-a806-3d6f4960bc8b"
   },
   "outputs": [
    {
     "ename": "NameError",
     "evalue": "name 'we' is not defined",
     "output_type": "error",
     "traceback": [
      "\u001b[1;31m---------------------------------------------------------------------------\u001b[0m",
      "\u001b[1;31mNameError\u001b[0m                                 Traceback (most recent call last)",
      "\u001b[1;32m<ipython-input-52-630bc51e78e1>\u001b[0m in \u001b[0;36m<module>\u001b[1;34m\u001b[0m\n\u001b[1;32m----> 1\u001b[1;33m \u001b[0mwe\u001b[0m\u001b[1;33m.\u001b[0m\u001b[0mmost_similar\u001b[0m\u001b[1;33m(\u001b[0m\u001b[0mpositive\u001b[0m\u001b[1;33m=\u001b[0m\u001b[1;33m[\u001b[0m\u001b[1;34m'doctora'\u001b[0m\u001b[1;33m]\u001b[0m\u001b[1;33m,\u001b[0m\u001b[0mnegative\u001b[0m\u001b[1;33m=\u001b[0m\u001b[1;33m[\u001b[0m\u001b[1;34m'hombre'\u001b[0m\u001b[1;33m]\u001b[0m\u001b[1;33m)\u001b[0m\u001b[1;33m\u001b[0m\u001b[1;33m\u001b[0m\u001b[0m\n\u001b[0m",
      "\u001b[1;31mNameError\u001b[0m: name 'we' is not defined"
     ]
    }
   ],
   "source": [
    "we.most_similar(positive=['doctora'],negative=['hombre'])"
   ]
  },
  {
   "cell_type": "markdown",
   "metadata": {
    "id": "OcL2i10u-0L3"
   },
   "source": [
    "A pesar de las diferencias entre el castellano y el inglés, podemos ver en la exploración del embedding fenómenos comparables. \n",
    "\n",
    "Se evidencian nociones estereotípicas sobre especialidades médicas, asociando a las doctoras con ginecología, obstetricia, enfemería, mientras que los doctores están mas relacionados con profesor, investigador, catedrático...\n",
    "\n",
    "Podemos seguir explorando cómo el uso de las palabras refleja estereotipos."
   ]
  },
  {
   "cell_type": "code",
   "execution_count": null,
   "metadata": {
    "colab": {
     "base_uri": "https://localhost:8080/"
    },
    "id": "JuQQf3HR-8t6",
    "outputId": "7dd244e6-8bc5-45c4-a85f-5fb94eb730ff"
   },
   "outputs": [
    {
     "data": {
      "text/plain": [
       "[('sensata', 0.4874057173728943),\n",
       " ('talentosa', 0.48738622665405273),\n",
       " ('innovadora', 0.47544434666633606),\n",
       " ('manipuladora', 0.4719089865684509),\n",
       " ('emprendedora', 0.46958673000335693),\n",
       " ('atractiva', 0.45731809735298157),\n",
       " ('extrovertida', 0.4571165144443512),\n",
       " ('impulsiva', 0.44972628355026245),\n",
       " ('educada', 0.447437047958374),\n",
       " ('ingeniosa', 0.44558414816856384)]"
      ]
     },
     "execution_count": 7,
     "metadata": {
      "tags": []
     },
     "output_type": "execute_result"
    }
   ],
   "source": [
    "we.most_similar(positive=['inteligente', 'mujer'], negative=['hombre'])"
   ]
  },
  {
   "cell_type": "code",
   "execution_count": null,
   "metadata": {
    "colab": {
     "base_uri": "https://localhost:8080/"
    },
    "id": "n7AzXQQi-__9",
    "outputId": "683d6806-bbe1-4601-de31-b6c588afaefc"
   },
   "outputs": [
    {
     "data": {
      "text/plain": [
       "[('astuto', 0.5987648963928223),\n",
       " ('inteligentemente', 0.565445601940155),\n",
       " ('inteligentes', 0.5556885004043579),\n",
       " ('intuitivo', 0.5533121824264526),\n",
       " ('visionario', 0.5499666929244995),\n",
       " ('bondadoso', 0.5497375726699829),\n",
       " ('afable', 0.5486626625061035),\n",
       " ('disciplinado', 0.5481559634208679),\n",
       " ('honesto', 0.5480844974517822),\n",
       " ('ingenioso', 0.5475456714630127)]"
      ]
     },
     "execution_count": 8,
     "metadata": {
      "tags": []
     },
     "output_type": "execute_result"
    }
   ],
   "source": [
    "we.most_similar(positive=['inteligente', 'hombre'], negative=['mujer'])"
   ]
  },
  {
   "cell_type": "code",
   "execution_count": 80,
   "metadata": {
    "colab": {
     "base_uri": "https://localhost:8080/"
    },
    "id": "lKDZb1_i3TPH",
    "outputId": "9c3e8d30-69dc-47f0-c6ec-c944e55b2782"
   },
   "outputs": [
    {
     "data": {
      "text/plain": [
       "[('ginecóloga', 0.6046308279037476),\n",
       " ('obstetra', 0.5925636887550354),\n",
       " ('pediatra', 0.5792399048805237),\n",
       " ('ginecológica', 0.5755670070648193),\n",
       " ('obstetricia', 0.562862753868103),\n",
       " ('enfermera', 0.5607845783233643),\n",
       " ('médica', 0.5571267604827881),\n",
       " ('médicos', 0.5507985353469849),\n",
       " ('ginecología', 0.5502138137817383),\n",
       " ('obstétrica', 0.5493755340576172)]"
      ]
     },
     "execution_count": 80,
     "metadata": {
      "tags": []
     },
     "output_type": "execute_result"
    }
   ],
   "source": [
    "we.most_similar(positive=['médico','mujer'], negative=['hombre'])"
   ]
  },
  {
   "cell_type": "code",
   "execution_count": 82,
   "metadata": {
    "colab": {
     "base_uri": "https://localhost:8080/"
    },
    "id": "VBpmvqVn3k9t",
    "outputId": "fa8e0642-381a-46a8-de6e-a6833b352318"
   },
   "outputs": [
    {
     "data": {
      "text/plain": [
       "[('cardiólogo', 0.596772313117981),\n",
       " ('cirujano', 0.5966023802757263),\n",
       " ('traumatólogo', 0.5808753967285156),\n",
       " ('medico', 0.5804007053375244),\n",
       " ('galeno', 0.5700283050537109),\n",
       " ('ginecólogo', 0.5457277297973633),\n",
       " ('neurólogo', 0.54304438829422),\n",
       " ('enfermero', 0.5366503000259399),\n",
       " ('psiquiatra', 0.5364155173301697),\n",
       " ('neurocirujano', 0.5363881587982178)]"
      ]
     },
     "execution_count": 82,
     "metadata": {
      "tags": []
     },
     "output_type": "execute_result"
    }
   ],
   "source": [
    "we.most_similar(positive=['médico','hombre'], negative=['mujer'])"
   ]
  },
  {
   "cell_type": "code",
   "execution_count": 81,
   "metadata": {
    "colab": {
     "base_uri": "https://localhost:8080/"
    },
    "id": "G1bLRo2R3WIo",
    "outputId": "cb891567-2262-4a08-95a7-b5bd70fddd11"
   },
   "outputs": [
    {
     "data": {
      "text/plain": [
       "[('médico', 0.5506406426429749),\n",
       " ('medica', 0.5366383790969849),\n",
       " ('médicas', 0.5251321196556091),\n",
       " ('clínica', 0.5138856172561646),\n",
       " ('médicos', 0.499112069606781),\n",
       " ('medico', 0.49768391251564026),\n",
       " ('quirúrgica', 0.49031704664230347),\n",
       " ('galeno', 0.4826927185058594),\n",
       " ('odontológica', 0.48202377557754517),\n",
       " ('hospitalaria', 0.4809926748275757)]"
      ]
     },
     "execution_count": 81,
     "metadata": {
      "tags": []
     },
     "output_type": "execute_result"
    }
   ],
   "source": [
    "we.most_similar(positive=['médica','hombre'], negative=['mujer'])"
   ]
  },
  {
   "cell_type": "code",
   "execution_count": 83,
   "metadata": {
    "colab": {
     "base_uri": "https://localhost:8080/"
    },
    "id": "CUmuIa8p3uog",
    "outputId": "4d26aa4c-3e63-43fa-dccd-e9ba5ed20645"
   },
   "outputs": [
    {
     "data": {
      "text/plain": [
       "[('ginecológica', 0.6155674457550049),\n",
       " ('obstétrica', 0.5944493412971497),\n",
       " ('obstetricia', 0.5862675905227661),\n",
       " ('pediátrica', 0.5625762939453125),\n",
       " ('ginecología', 0.5593430995941162),\n",
       " ('obstétricos', 0.5461073517799377),\n",
       " ('medica', 0.5453529357910156),\n",
       " ('ambulatoria', 0.5365152955055237),\n",
       " ('obstétricas', 0.5328614115715027),\n",
       " ('odontológica', 0.5309116244316101)]"
      ]
     },
     "execution_count": 83,
     "metadata": {
      "tags": []
     },
     "output_type": "execute_result"
    }
   ],
   "source": [
    "we.most_similar(positive=['médica','mujer'], negative=['hombre'])"
   ]
  },
  {
   "cell_type": "markdown",
   "metadata": {
    "id": "GBYi2Zmk_rCX"
   },
   "source": [
    "## 4.2 Dirección de género\n",
    "\n",
    "Ahora vamos a construir el espacio de género! Empecemos como en inglés, con \"*él*\" y \"*ella*\"."
   ]
  },
  {
   "cell_type": "code",
   "execution_count": 202,
   "metadata": {
    "colab": {
     "base_uri": "https://localhost:8080/"
    },
    "id": "KOeDVU_O-Rnp",
    "outputId": "57e17d43-d8ff-4520-ab0b-a504dce9a647"
   },
   "outputs": [
    {
     "name": "stderr",
     "output_type": "stream",
     "text": [
      "2021-06-16 01:19:35,771 : precomputing L2-norms of word weight vectors\n"
     ]
    }
   ],
   "source": [
    "from responsibly.we import BiasWordEmbedding\n",
    "\n",
    "we_genero = BiasWordEmbedding(we, only_lower=True)"
   ]
  },
  {
   "cell_type": "code",
   "execution_count": 203,
   "metadata": {
    "id": "BICdy7KN4VVN"
   },
   "outputs": [],
   "source": [
    "espacio_f = ['ella']\n",
    "espacio_m = ['él']\n",
    "\n",
    "we_genero._identify_direction('Femenino', 'Masculino',\n",
    "                                          definitional=(espacio_f, espacio_m),\n",
    "                                          method='sum')"
   ]
  },
  {
   "cell_type": "code",
   "execution_count": 204,
   "metadata": {
    "id": "nak_NBgr_Oym"
   },
   "outputs": [],
   "source": [
    "gender_direction = we_genero.direction\n",
    "\n",
    "gender_direction /= norm(gender_direction)"
   ]
  },
  {
   "cell_type": "code",
   "execution_count": 205,
   "metadata": {
    "colab": {
     "base_uri": "https://localhost:8080/"
    },
    "id": "lih6vMnE_Ru7",
    "outputId": "4385f305-cd9b-48a1-b6da-181bc248ef30"
   },
   "outputs": [
    {
     "data": {
      "text/plain": [
       "0.21170145"
      ]
     },
     "execution_count": 205,
     "metadata": {
      "tags": []
     },
     "output_type": "execute_result"
    }
   ],
   "source": [
    "gender_direction @ we.word_vec('arquitecta')"
   ]
  },
  {
   "cell_type": "code",
   "execution_count": 206,
   "metadata": {
    "colab": {
     "base_uri": "https://localhost:8080/"
    },
    "id": "uo_k9PPJ_THl",
    "outputId": "fe845ca4-4d9b-4193-b9ce-51770d23d8a6"
   },
   "outputs": [
    {
     "data": {
      "text/plain": [
       "-0.09577321"
      ]
     },
     "execution_count": 206,
     "metadata": {
      "tags": []
     },
     "output_type": "execute_result"
    }
   ],
   "source": [
    "gender_direction @ we.word_vec('arquitecto')"
   ]
  },
  {
   "cell_type": "markdown",
   "metadata": {
    "id": "atAX_zxi43Ys"
   },
   "source": [
    "Pues no parece que se diferencien mucho las palabras...\n",
    "\n",
    "⚡ El castellano es una [lengua que permite la omisión del sujeto](https://en.wikipedia.org/wiki/Pro-drop_language), por lo tanto **\"*él*\" y \"*ella*\" ocurren menos veces y en contextos muy distintos a \"*he*\" y \"*she*\". Parece que no son buenos delimitadores del subespacio de género!**\n",
    "\n",
    "En ese caso, usemos más y mejores indicadores."
   ]
  },
  {
   "cell_type": "code",
   "execution_count": 207,
   "metadata": {
    "id": "DJfWPEO--U6E"
   },
   "outputs": [],
   "source": [
    "espacio_f = ['mujer', 'ella' , 'chica', 'niña', 'esposa', 'señora', 'hermana', 'madre', 'abuela']\n",
    "espacio_m = ['hombre', 'él', 'chico', 'niño', 'esposo', 'señor', 'hermano', 'padre','abuelo']\n",
    "\n",
    "we_genero._identify_direction('Femenino', 'Masculino',\n",
    "                                          definitional=(espacio_f, espacio_m),\n",
    "                                          method='sum')"
   ]
  },
  {
   "cell_type": "code",
   "execution_count": 208,
   "metadata": {
    "id": "wcwQwQFV6PBV"
   },
   "outputs": [],
   "source": [
    "gender_direction = we_genero.direction\n",
    "\n",
    "gender_direction /= norm(gender_direction)"
   ]
  },
  {
   "cell_type": "code",
   "execution_count": 209,
   "metadata": {
    "colab": {
     "base_uri": "https://localhost:8080/"
    },
    "id": "ks37gqji7HNg",
    "outputId": "5f77391d-dd4c-41bd-9f89-f318daf5e15c"
   },
   "outputs": [
    {
     "data": {
      "text/plain": [
       "0.29372594"
      ]
     },
     "execution_count": 209,
     "metadata": {
      "tags": []
     },
     "output_type": "execute_result"
    }
   ],
   "source": [
    "gender_direction @ we.word_vec('arquitecta')"
   ]
  },
  {
   "cell_type": "code",
   "execution_count": 210,
   "metadata": {
    "colab": {
     "base_uri": "https://localhost:8080/"
    },
    "id": "O6ujmB5L7I_z",
    "outputId": "15c93494-97a9-46a3-c2d9-f5ff6fbdc019"
   },
   "outputs": [
    {
     "data": {
      "text/plain": [
       "-0.19526821"
      ]
     },
     "execution_count": 210,
     "metadata": {
      "tags": []
     },
     "output_type": "execute_result"
    }
   ],
   "source": [
    "gender_direction @ we.word_vec('arquitecto')"
   ]
  },
  {
   "cell_type": "markdown",
   "metadata": {
    "id": "FU80SdDw7ThK"
   },
   "source": [
    "Ahora bien: cómo sabemos que estas palabras no se están situando en diferentes posiciones del subespacio de género por su género morfológico, y no porque estén representando estereotipos?\n",
    "\n",
    "Hagamos el experimento con palabras que tengan el mismo género morfológico pero que representen diferentes estereotipos de género."
   ]
  },
  {
   "cell_type": "code",
   "execution_count": 211,
   "metadata": {
    "colab": {
     "base_uri": "https://localhost:8080/"
    },
    "id": "kxajoveD_Unq",
    "outputId": "0837dabe-7753-4b3e-d45b-f0e8c04ad64a"
   },
   "outputs": [
    {
     "data": {
      "text/plain": [
       "0.01069098"
      ]
     },
     "execution_count": 211,
     "metadata": {
      "tags": []
     },
     "output_type": "execute_result"
    }
   ],
   "source": [
    "gender_direction @ we.word_vec('arquitectura')"
   ]
  },
  {
   "cell_type": "code",
   "execution_count": 212,
   "metadata": {
    "colab": {
     "base_uri": "https://localhost:8080/"
    },
    "id": "x-_pf8u9_V6s",
    "outputId": "6dff4ec0-ead5-402d-df6f-c03a86670c97"
   },
   "outputs": [
    {
     "data": {
      "text/plain": [
       "-0.06690517"
      ]
     },
     "execution_count": 212,
     "metadata": {
      "tags": []
     },
     "output_type": "execute_result"
    }
   ],
   "source": [
    "gender_direction @ we.word_vec('ingeniería')"
   ]
  },
  {
   "cell_type": "code",
   "execution_count": 213,
   "metadata": {
    "colab": {
     "base_uri": "https://localhost:8080/"
    },
    "id": "2CJGOHQs7qSl",
    "outputId": "6e8ca6ce-d1ef-44c5-b31b-f2301928f595"
   },
   "outputs": [
    {
     "data": {
      "text/plain": [
       "0.06260888"
      ]
     },
     "execution_count": 213,
     "metadata": {
      "tags": []
     },
     "output_type": "execute_result"
    }
   ],
   "source": [
    "gender_direction @ we.word_vec('obstetricia')"
   ]
  },
  {
   "cell_type": "code",
   "execution_count": 214,
   "metadata": {
    "colab": {
     "base_uri": "https://localhost:8080/"
    },
    "id": "FI9grDMc7329",
    "outputId": "12cf8086-1585-488f-9b94-16a8e8d4c442"
   },
   "outputs": [
    {
     "data": {
      "text/plain": [
       "-0.02380787"
      ]
     },
     "execution_count": 214,
     "metadata": {
      "tags": []
     },
     "output_type": "execute_result"
    }
   ],
   "source": [
    "gender_direction @ we.word_vec('medicina')"
   ]
  },
  {
   "cell_type": "markdown",
   "metadata": {
    "id": "C5d9ZZRl9uxh"
   },
   "source": [
    "Ambas palabras tienen género gramatical femenino, pero\n",
    "parecen ubicarse del lado masculino."
   ]
  },
  {
   "cell_type": "markdown",
   "metadata": {
    "id": "MzDFVhEt_dBD"
   },
   "source": [
    "Podríamos pensar que la posición en la dirección del género en castellano solamente tiene que ver con el género gramatical de la palabra, pero no parece ser así!\n",
    "\n",
    "Por lo tanto, parece que hemos podido llegar a una representación de la dirección de género que es indicativa de estereotipos de género.\n",
    "\n",
    "Hagamos una última prueba con uno de los ejemplos que vimos para el inglés: \"*house*\" y \"*home*\"."
   ]
  },
  {
   "cell_type": "code",
   "execution_count": 215,
   "metadata": {
    "colab": {
     "base_uri": "https://localhost:8080/"
    },
    "id": "JGS7skfV8wYJ",
    "outputId": "7cefc955-f588-4b92-da4e-c227ad6d7330"
   },
   "outputs": [
    {
     "data": {
      "text/plain": [
       "0.036148656"
      ]
     },
     "execution_count": 215,
     "metadata": {
      "tags": []
     },
     "output_type": "execute_result"
    }
   ],
   "source": [
    "gender_direction @ we.word_vec('casa')"
   ]
  },
  {
   "cell_type": "code",
   "execution_count": 216,
   "metadata": {
    "colab": {
     "base_uri": "https://localhost:8080/"
    },
    "id": "nGXAR3Ef81kf",
    "outputId": "991c6f6a-e018-4d88-e451-d20ade3a99e2"
   },
   "outputs": [
    {
     "data": {
      "text/plain": [
       "-0.030880773"
      ]
     },
     "execution_count": 216,
     "metadata": {
      "tags": []
     },
     "output_type": "execute_result"
    }
   ],
   "source": [
    "gender_direction @ we.word_vec('hogar')"
   ]
  },
  {
   "cell_type": "markdown",
   "metadata": {
    "id": "W-F3scUx88az"
   },
   "source": [
    "Aunque la dirección de género parece funcionar, ¿quizás los estereotipos asociados a las palabras no son directamente comparables? ¡Esto amerita un estudio de corpus!"
   ]
  },
  {
   "cell_type": "markdown",
   "metadata": {
    "id": "UyhIbwRV_BM3"
   },
   "source": [
    "## 4.3 Medición directa del sesgo de género"
   ]
  },
  {
   "cell_type": "markdown",
   "metadata": {
    "id": "Xtx_IaYAIWEW"
   },
   "source": [
    "Como en inglés, podemos medir el sesgo en esta dirección de género usando una lista de palabras que sean neutras con respecto al género, es decir, que no tengan género morfológicamente marcado. \n",
    "\n",
    "La librería responsibly provee una lista de profesiones neutras en inglés. En español, la lista de profesiones neutras es mucho más corta porque en castellano la mayor parte de las palabras tienen género morfológicamente marcado. \n",
    "\n",
    "Sin embargo, hay algunas profesiones que tienen forma no marcada con género, principalmente palabras terminadas en -ista, -nte. \n",
    "\n",
    "Con esta lista, la estrategia desarrollada para el inglés debería funcionar."
   ]
  },
  {
   "cell_type": "code",
   "execution_count": 217,
   "metadata": {
    "id": "b1jjG0iU_IX3"
   },
   "outputs": [],
   "source": [
    "profesiones_neutras = [\n",
    "    'chofer',\n",
    "    'columnista',\n",
    "    'publicista',\n",
    "    'naturista',\n",
    "    'asistente',\n",
    "    'taxista',\n",
    "    'psiquiatra',\n",
    "    'policia',\n",
    "    'dentista',\n",
    "    'florista',\n",
    "    'docente',\n",
    "    'periodista',\n",
    "    'electricista',\n",
    "    'economista',\n",
    "    'atleta',\n",
    "    'terapeuta',\n",
    "    'piloto',\n",
    "    'modelo',\n",
    "    'estudiante',\n",
    "    'comerciante',\n",
    "    'chef',\n",
    "    'cantante',\n",
    "    'militar',\n",
    "]"
   ]
  },
  {
   "cell_type": "markdown",
   "metadata": {
    "id": "YUXikrE-YWtc"
   },
   "source": [
    "Para medir el sesgo usamos esta lista de profesiones neutras de la siguiente forma:\n",
    "\n",
    "1. Proyectamos cada uno de los nombres de profesión neutros en la dirección de género\n",
    "2. Calculamos el valor absoluto de cada proyección\n",
    "3. Lo promediamos"
   ]
  },
  {
   "cell_type": "code",
   "execution_count": 218,
   "metadata": {
    "colab": {
     "base_uri": "https://localhost:8080/",
     "height": 621
    },
    "id": "04EVnPAI_K_2",
    "outputId": "9876bef3-04d5-4671-ad66-4659de80ac87"
   },
   "outputs": [
    {
     "data": {
      "image/png": "[encoded data removed]",
      "text/plain": [
       "<Figure size 720x720 with 1 Axes>"
      ]
     },
     "metadata": {
      "needs_background": "light",
      "tags": []
     },
     "output_type": "display_data"
    }
   ],
   "source": [
    "import matplotlib.pylab as plt\n",
    "\n",
    "f, ax = plt.subplots(1, figsize=(10, 10))\n",
    "\n",
    "we_genero.plot_projection_scores(\n",
    "    profesiones_neutras + espacio_f[:1] + espacio_m[:1],\n",
    "    n_extreme=20,\n",
    "    ax=ax);"
   ]
  },
  {
   "cell_type": "code",
   "execution_count": 219,
   "metadata": {
    "colab": {
     "base_uri": "https://localhost:8080/"
    },
    "id": "HPjUd3G__xHt",
    "outputId": "12c7e8c2-d881-47ac-8c2d-64e649824d46"
   },
   "outputs": [
    {
     "data": {
      "text/plain": [
       "0.06407627389442337"
      ]
     },
     "execution_count": 219,
     "metadata": {
      "tags": []
     },
     "output_type": "execute_result"
    }
   ],
   "source": [
    "we_genero.calc_direct_bias(profesiones_neutras, c=None)"
   ]
  },
  {
   "cell_type": "markdown",
   "metadata": {
    "id": "xLFsDvD_AY_4"
   },
   "source": [
    "## 4.4 Mitigación del sesgo de género"
   ]
  },
  {
   "cell_type": "markdown",
   "metadata": {
    "id": "Knqk1IOcCjqY"
   },
   "source": [
    "La estrategia que vimos para mitigar sesgo de género consiste en eliminar la proyección de género de las palabras de una lista de palabras neutras, y después normalizar. \n",
    "\n",
    "El problema que tenemos para trasladar esta estrategia directamente al castellano es que la lista de palabras neutras es mucho más difícil de obtener que para el inglés. En inglés la lista de palabras neutras tenía más de 26000 palabras, porque se definía como el complemento de la lista de palabras con género morfológicamente marcado, que son muy pocas en inglés y por lo tanto sencillas de listar.\n",
    "\n",
    "Como hemos dicho, en castellano la mayor parte de palabras tienen género morfológico marcado, así que resultará difícil construir la lista de palabras neutras.\n",
    "\n",
    "¿Qué pasa si la lista de palabras neutras es pequeña?"
   ]
  },
  {
   "cell_type": "markdown",
   "metadata": {
    "id": "vblZ7p8YbiZk"
   },
   "source": [
    "### Lista de palabras neutras corta\n",
    "\n",
    "Veamos qué pasa si usamos solamente las palabras de profesiones neutras como lista de palabras neutras para mitigar el sesgo. Esta lista tiene muy pocas palabras."
   ]
  },
  {
   "cell_type": "code",
   "execution_count": 224,
   "metadata": {
    "colab": {
     "base_uri": "https://localhost:8080/"
    },
    "id": "eAX5RUffbseG",
    "outputId": "61f54de3-4125-40b7-f9d8-217f2d9b8e79"
   },
   "outputs": [
    {
     "data": {
      "text/plain": [
       "23"
      ]
     },
     "execution_count": 224,
     "metadata": {
      "tags": []
     },
     "output_type": "execute_result"
    }
   ],
   "source": [
    "len(profesiones_neutras)"
   ]
  },
  {
   "cell_type": "code",
   "execution_count": 225,
   "metadata": {
    "colab": {
     "base_uri": "https://localhost:8080/"
    },
    "id": "ZYQDM_rMAoE0",
    "outputId": "775cc6aa-26be-4543-b54c-a6d47a21b405"
   },
   "outputs": [
    {
     "name": "stderr",
     "output_type": "stream",
     "text": [
      "2021-06-16 01:28:34,401 : precomputing L2-norms of word weight vectors\n",
      "2021-06-16 01:28:36,214 : precomputing L2-norms of word weight vectors\n"
     ]
    }
   ],
   "source": [
    "we_genero_debias = we_genero.debias(method = 'neutralize' , neutral_words= profesiones_neutras, inplace=False)\n"
   ]
  },
  {
   "cell_type": "code",
   "execution_count": null,
   "metadata": {
    "id": "6GvXytuHUmi1"
   },
   "outputs": [],
   "source": [
    "w2v_small_gender_debias = w2v_small_gender_bias.debias(method='neutralize', inplace=False)"
   ]
  },
  {
   "cell_type": "code",
   "execution_count": null,
   "metadata": {
    "id": "2IYxldUGb98f"
   },
   "outputs": [],
   "source": [
    "Si medimos el sesgo después de la mitigación vemos que se ha reducido muchísimo! y el gráfico también indica lo mismo."
   ]
  },
  {
   "cell_type": "code",
   "execution_count": 226,
   "metadata": {
    "colab": {
     "base_uri": "https://localhost:8080/"
    },
    "id": "aEd6e8iSGvak",
    "outputId": "48461f12-3ccd-4b7e-fa70-a2c6643a98a6"
   },
   "outputs": [
    {
     "data": {
      "text/plain": [
       "8.23345780925669e-09"
      ]
     },
     "execution_count": 226,
     "metadata": {
      "tags": []
     },
     "output_type": "execute_result"
    }
   ],
   "source": [
    "we_genero_debias.calc_direct_bias(profesiones_neutras, c=None)"
   ]
  },
  {
   "cell_type": "code",
   "execution_count": 222,
   "metadata": {
    "colab": {
     "base_uri": "https://localhost:8080/",
     "height": 621
    },
    "id": "ljWRBRJYAqGk",
    "outputId": "c2e285ac-6009-41d5-f259-77265878ad4c"
   },
   "outputs": [
    {
     "data": {
      "image/png": "[encoded data removed]",
      "text/plain": [
       "<Figure size 720x720 with 1 Axes>"
      ]
     },
     "metadata": {
      "needs_background": "light",
      "tags": []
     },
     "output_type": "display_data"
    }
   ],
   "source": [
    "f, ax = plt.subplots(1, figsize=(10, 10))\n",
    "\n",
    "we_genero_debias.plot_projection_scores(\n",
    "    profesiones_neutras + espacio_f[:1] + espacio_m[:1],\n",
    "    n_extreme=20,\n",
    "    ax=ax);"
   ]
  },
  {
   "cell_type": "markdown",
   "metadata": {
    "id": "VESACLCqcLDO"
   },
   "source": [
    "Vamos a hacer una exploración cualitativa de cómo se ha reducido el sesgo:"
   ]
  },
  {
   "cell_type": "code",
   "execution_count": 229,
   "metadata": {
    "colab": {
     "base_uri": "https://localhost:8080/"
    },
    "id": "D3gBbj_kdDQT",
    "outputId": "aa44c5b8-9b19-4a41-c8c5-c748dcb387bf"
   },
   "outputs": [
    {
     "name": "stdout",
     "output_type": "stream",
     "text": [
      "estudiante: antes = -0.0048034997 después =  -1.2823875e-10\n"
     ]
    }
   ],
   "source": [
    "print('estudiante:',\n",
    "      'antes =', we_genero.model['estudiante'] @ we_genero.direction,\n",
    "      'después = ', we_genero_debias.model['estudiante'] @ we_genero_debias.direction)"
   ]
  },
  {
   "cell_type": "markdown",
   "metadata": {
    "id": "m6heBa7HdJgl"
   },
   "source": [
    "Pero, ¿qué pasa con las palabras que no están en la lista?"
   ]
  },
  {
   "cell_type": "code",
   "execution_count": 227,
   "metadata": {
    "colab": {
     "base_uri": "https://localhost:8080/"
    },
    "id": "H9v2z7GpL8tw",
    "outputId": "8e3aa5c7-0999-4052-fd80-21199dc85f89"
   },
   "outputs": [
    {
     "name": "stdout",
     "output_type": "stream",
     "text": [
      "ingeniero: antes = -0.24747832 después =  -0.24747832\n"
     ]
    }
   ],
   "source": [
    "print('ingeniero:',\n",
    "      'antes =', we_genero.model['ingeniero'] @ we_genero.direction,\n",
    "      'después = ', we_genero_debias.model['ingeniero'] @ we_genero_debias.direction)"
   ]
  },
  {
   "cell_type": "code",
   "execution_count": 228,
   "metadata": {
    "colab": {
     "base_uri": "https://localhost:8080/"
    },
    "id": "Zezaw_S1cZqJ",
    "outputId": "2eb5a147-b544-4db8-e94c-1d03dba64062"
   },
   "outputs": [
    {
     "name": "stdout",
     "output_type": "stream",
     "text": [
      "laboralista: antes = -0.08559768 después =  -0.08559768\n"
     ]
    }
   ],
   "source": [
    "print('laboralista:',\n",
    "      'antes =', we_genero.model['laboralista'] @ we_genero.direction,\n",
    "      'después = ', we_genero_debias.model['laboralista'] @ we_genero_debias.direction)"
   ]
  },
  {
   "cell_type": "markdown",
   "metadata": {
    "id": "aJJJwxUYfU-j"
   },
   "source": [
    "Esta aproximación sólo elimina el sesgo de las palabras que pongamos en la lista! \n",
    "\n",
    "Pero si en el castellano la mayoría de palabras tienen género marcado morfológicamente ¿qué palabras podemos poner en una lista de palabras neutras con respecto al género?"
   ]
  },
  {
   "cell_type": "markdown",
   "metadata": {
    "id": "SNiGG6yUFowb"
   },
   "source": [
    "## 4.5 Palabras de género semántico neutro para el castellano"
   ]
  },
  {
   "cell_type": "markdown",
   "metadata": {
    "id": "gO_eaAPvdQEC"
   },
   "source": [
    "\n",
    "* Palabras de categorías gramaticales sin género: verbos, adverbios, preposiciones\n",
    "* Palabras abstractas, cuyo género morfológico no tiene una correspondencia con un género semántico\n",
    "* Palabras de colectivos, igual\n",
    "* Más palabras sin género marcado morfológicamente, como las terminadas en -ble, -nte\n",
    "\n",
    "Ahora bien, si estas palabras no tienen género semántico, quizás no nos sirven para mitigar sesgo porque no están sesgadas... ¿o sí?"
   ]
  },
  {
   "cell_type": "markdown",
   "metadata": {
    "id": "Uomy6za9fgJj"
   },
   "source": [
    "### Categorías gramaticales sin género"
   ]
  },
  {
   "cell_type": "code",
   "execution_count": 257,
   "metadata": {
    "id": "Bd8lf0ooflYW"
   },
   "outputs": [],
   "source": [
    "verbos = [ \n",
    "          'comprar',\n",
    "          'vender',\n",
    "          'dormir',\n",
    "          'despertar',\n",
    "          'soñar',\n",
    "          'llorar',\n",
    "          'gritar',\n",
    "          'hablar',\n",
    "          'preguntar',\n",
    "          'pensar',\n",
    "          'inventar',\n",
    "          'bailar',\n",
    "          'cantar',\n",
    "          'cocinar',\n",
    "          'sentir',\n",
    "          'bordar',\n",
    "          'tejer',\n",
    "          'coser',\n",
    "          'razonar',\n",
    "          'argumentar',\n",
    "          'cursar',\n",
    "          'programar'\n",
    "]"
   ]
  },
  {
   "cell_type": "code",
   "execution_count": 258,
   "metadata": {
    "colab": {
     "base_uri": "https://localhost:8080/",
     "height": 621
    },
    "id": "KNmnHEkcf71t",
    "outputId": "28bd21db-7200-4579-d86a-d4b40b37ca14"
   },
   "outputs": [
    {
     "data": {
      "image/png": "[encoded data removed]",
      "text/plain": [
       "<Figure size 720x720 with 1 Axes>"
      ]
     },
     "metadata": {
      "needs_background": "light",
      "tags": []
     },
     "output_type": "display_data"
    }
   ],
   "source": [
    "f, ax = plt.subplots(1, figsize=(10, 10))\n",
    "\n",
    "we_genero.plot_projection_scores(\n",
    "    verbos + ['hombre'] + ['mujer'],\n",
    "    n_extreme=20,\n",
    "    ax=ax);"
   ]
  },
  {
   "cell_type": "markdown",
   "metadata": {
    "id": "E4mz_klb_4n6"
   },
   "source": [
    "### Colectivos\n",
    "\n",
    "Las palabras referidas a colectivos se han usado muchas veces en lenguaje igualitario, porque, aunque tienen género morfológico, ese género no se corresponde con el género de las personas que componen el colectivo.\n",
    "\n",
    "Podríamos usar las palabras de colectivos profesionales también como indicadores de género neutro!"
   ]
  },
  {
   "cell_type": "code",
   "execution_count": 152,
   "metadata": {
    "id": "wxVgzTdt_8n8"
   },
   "outputs": [],
   "source": [
    "profesiones_colectivos = [\n",
    "'ingeniería',\n",
    "'arquitectura',\n",
    "'psicología',\n",
    "'enfermería',\n",
    "'medicina',\n",
    "'carpintería',\n",
    "'presidencia',\n",
    "'biología',\n",
    "'cocina',\n",
    "'docencia',\n",
    "'abogacía',\n",
    "'cirugía',\n",
    "'neurocirugía',\n",
    "'actuación',\n",
    "'música',\n",
    "'canto'\n",
    "]"
   ]
  },
  {
   "cell_type": "code",
   "execution_count": 153,
   "metadata": {
    "colab": {
     "base_uri": "https://localhost:8080/",
     "height": 621
    },
    "id": "6RmGNCuG_51M",
    "outputId": "22b6da7c-517a-48b9-91ba-559bf4193a1f"
   },
   "outputs": [
    {
     "data": {
      "image/png": "[encoded data removed]",
      "text/plain": [
       "<Figure size 720x720 with 1 Axes>"
      ]
     },
     "metadata": {
      "needs_background": "light",
      "tags": []
     },
     "output_type": "display_data"
    }
   ],
   "source": [
    "f, ax = plt.subplots(1, figsize=(10, 10))\n",
    "\n",
    "we_genero.plot_projection_scores(\n",
    "    profesiones_colectivos + ['hombre'] + ['mujer'],\n",
    "    n_extreme=20,\n",
    "    ax=ax);"
   ]
  },
  {
   "cell_type": "markdown",
   "metadata": {
    "id": "rG5eTraUIuX5"
   },
   "source": [
    "### Sustantivos abstractos"
   ]
  },
  {
   "cell_type": "code",
   "execution_count": 141,
   "metadata": {
    "id": "A0OP1H9kAUOU"
   },
   "outputs": [],
   "source": [
    "sustantivos_abstractos = [\n",
    "'inteligencia',\n",
    "'belleza',\n",
    "'humildad',\n",
    "'sabiduría',\n",
    "'poder',\n",
    "'cariño',\n",
    "'bondad',\n",
    "'ambición',\n",
    "'delicadeza',\n",
    "'amabilidad',\n",
    "'paciencia',\n",
    "'popularidad',\n",
    "'fama',\n",
    "'generosidad',\n",
    "'honestidad',\n",
    "'canto',\n",
    "'maldad',\n",
    "'soberbia',\n",
    "'violencia'\n",
    "]\n"
   ]
  },
  {
   "cell_type": "code",
   "execution_count": 142,
   "metadata": {
    "colab": {
     "base_uri": "https://localhost:8080/",
     "height": 621
    },
    "id": "ptbtWCx1AQ1S",
    "outputId": "a368bed4-7acc-40e7-f6f0-5eb0517f7a9c"
   },
   "outputs": [
    {
     "data": {
      "image/png": "[encoded data removed]",
      "text/plain": [
       "<Figure size 720x720 with 1 Axes>"
      ]
     },
     "metadata": {
      "needs_background": "light",
      "tags": []
     },
     "output_type": "display_data"
    }
   ],
   "source": [
    "f, ax = plt.subplots(1, figsize=(10, 10))\n",
    "\n",
    "we_genero.plot_projection_scores(\n",
    "    sustantivos_abstractos + ['hombre'] + ['mujer'],\n",
    "    n_extreme=20,\n",
    "    ax=ax);"
   ]
  },
  {
   "cell_type": "markdown",
   "metadata": {
    "id": "03yUvAuyACiv"
   },
   "source": [
    "### Adjetivos neutros"
   ]
  },
  {
   "cell_type": "code",
   "execution_count": 139,
   "metadata": {
    "id": "m29pPsvmAEUz"
   },
   "outputs": [],
   "source": [
    "adjetivos_neutros = [\n",
    "'inteligente',\n",
    "'humilde',\n",
    "'amable',\n",
    "'dulce',\n",
    "'audaz',\n",
    "'paciente',\n",
    "'popular',\n",
    "'flexible',\n",
    "'grande',\n",
    "'brillante',\n",
    "'inocente',\n",
    "'fácil',\n",
    "'agradable',\n",
    "'infeliz',\n",
    "'capaz',\n",
    "'difícil',\n",
    "'temperamental',\n",
    "]"
   ]
  },
  {
   "cell_type": "code",
   "execution_count": 140,
   "metadata": {
    "colab": {
     "base_uri": "https://localhost:8080/",
     "height": 621
    },
    "id": "YnYd6L1K_7eS",
    "outputId": "aff46f0f-51cd-4969-e9c0-d8a51fc0fb01"
   },
   "outputs": [
    {
     "data": {
      "image/png": "[encoded data removed]",
      "text/plain": [
       "<Figure size 720x720 with 1 Axes>"
      ]
     },
     "metadata": {
      "needs_background": "light",
      "tags": []
     },
     "output_type": "display_data"
    }
   ],
   "source": [
    "f, ax = plt.subplots(1, figsize=(10, 10))\n",
    "\n",
    "we_genero.plot_projection_scores(\n",
    "    adjetivos_neutros + ['hombre'] + ['mujer'],\n",
    "    n_extreme=20,\n",
    "    ax=ax);"
   ]
  },
  {
   "cell_type": "markdown",
   "metadata": {
    "id": "2-CTEVbS_S2n"
   },
   "source": [
    "## 4.6 ¿Podemos incorporar palabras con género morfológico marcado?\n",
    "\n",
    "Incluso usando todas estas palabras con género semántico neutro, habrá muchas palabras que quedarán sesgadas, porque no se habrán podido neutralizar.\n",
    "\n",
    "¿Habrá alguna forma de incorporar las palabras con género marcado morfológicamente para hacer la neutralización?\n",
    "\n",
    "Veamos algunas de sus propiedades"
   ]
  },
  {
   "cell_type": "code",
   "execution_count": 267,
   "metadata": {
    "id": "GJk195Hqi2Ae"
   },
   "outputs": [],
   "source": [
    "palabras_con_genero = ['gato','gata']"
   ]
  },
  {
   "cell_type": "code",
   "execution_count": 270,
   "metadata": {
    "colab": {
     "base_uri": "https://localhost:8080/",
     "height": 187
    },
    "id": "AQp2rGrEi_V1",
    "outputId": "ede718e3-e9ce-4ee9-d554-63beff9e0b62"
   },
   "outputs": [
    {
     "data": {
      "image/png": "[encoded data removed]",
      "text/plain": [
       "<Figure size 720x144 with 1 Axes>"
      ]
     },
     "metadata": {
      "needs_background": "light",
      "tags": []
     },
     "output_type": "display_data"
    }
   ],
   "source": [
    "f, ax = plt.subplots(1, figsize=(10, 2))\n",
    "\n",
    "we_genero.plot_projection_scores(\n",
    "    palabras_con_genero + espacio_f[:1] + espacio_m[:1],\n",
    "    n_extreme=20,\n",
    "    ax=ax);"
   ]
  },
  {
   "cell_type": "code",
   "execution_count": 114,
   "metadata": {
    "id": "pGi2NHg9_UYw"
   },
   "outputs": [],
   "source": [
    "profesiones_con_genero = [\n",
    "                          'arquitecta', 'arquitecto',\n",
    "                          'ingeniera', 'ingeniero',\n",
    "                          'diseñadora', 'diseñador',\n",
    "                          'doctor', 'doctora',\n",
    "                          'abogada', 'abogado',\n",
    "                          'profesor', 'profesora',\n",
    "                          'contador','contadora',\n",
    "                          'científico', 'científica',\n",
    "                          'biólogo', 'bióloga',\n",
    "                          'cocinera', 'cocinero',\n",
    "                          'psicóloga','psicólogo',\n",
    "                          'enfermera', 'enfermero',\n",
    "                          'obrera', 'obrero',\n",
    "                          'actor', 'actriz'\n",
    "                          ]"
   ]
  },
  {
   "cell_type": "code",
   "execution_count": 115,
   "metadata": {
    "colab": {
     "base_uri": "https://localhost:8080/",
     "height": 621
    },
    "id": "Gm95_kS6_XKo",
    "outputId": "8661a221-8276-4dc3-e675-56b08ccb064b"
   },
   "outputs": [
    {
     "data": {
      "image/png": "[encoded data removed]",
      "text/plain": [
       "<Figure size 720x720 with 1 Axes>"
      ]
     },
     "metadata": {
      "needs_background": "light",
      "tags": []
     },
     "output_type": "display_data"
    }
   ],
   "source": [
    "f, ax = plt.subplots(1, figsize=(10, 10))\n",
    "\n",
    "we_genero.plot_projection_scores(\n",
    "    profesiones_con_genero + espacio_f[:1] + espacio_m[:1],\n",
    "    n_extreme=20,\n",
    "    ax=ax);"
   ]
  },
  {
   "cell_type": "markdown",
   "metadata": {
    "id": "w269IRa3Ah-4"
   },
   "source": [
    "Las profesiones con género morfológico femenino están más hacia el lado femenino que las profesiones masculinas hacia el lado masculino.\n"
   ]
  },
  {
   "cell_type": "markdown",
   "metadata": {
    "id": "QRqNKHfw_ddS"
   },
   "source": [
    "Podemos buscar otra forma de calcular el sesgo cuando la mayoría de las palabras tienen una forma femenina y otra masculina: podemos medir el sesgo como el valor absoluto de la diferencia entre la proyección de cada palabra. Cuanto más grande sea esa diferencia, más estereotipada hacia uno de los dos géneros está esa profesión."
   ]
  },
  {
   "cell_type": "code",
   "execution_count": 130,
   "metadata": {
    "id": "JFGn9qyg_oeV"
   },
   "outputs": [],
   "source": [
    "gender_direction = we_genero.direction"
   ]
  },
  {
   "cell_type": "code",
   "execution_count": 262,
   "metadata": {
    "colab": {
     "base_uri": "https://localhost:8080/"
    },
    "id": "wF0wkvExjRcg",
    "outputId": "873340cc-31cd-43ac-c44b-478ff342ac10"
   },
   "outputs": [
    {
     "data": {
      "text/plain": [
       "0.0015478581"
      ]
     },
     "execution_count": 262,
     "metadata": {
      "tags": []
     },
     "output_type": "execute_result"
    }
   ],
   "source": [
    "abs(gender_direction @ we.word_vec('gato')) - abs(gender_direction @ we.word_vec('gata'))"
   ]
  },
  {
   "cell_type": "code",
   "execution_count": 131,
   "metadata": {
    "colab": {
     "base_uri": "https://localhost:8080/"
    },
    "id": "axaQfjdH_hyR",
    "outputId": "edd2492b-2e7c-4c99-e3d0-7a4f765855d3"
   },
   "outputs": [
    {
     "data": {
      "text/plain": [
       "0.098457724"
      ]
     },
     "execution_count": 131,
     "metadata": {
      "tags": []
     },
     "output_type": "execute_result"
    }
   ],
   "source": [
    "abs(gender_direction @ we.word_vec('arquitecta')) - abs(gender_direction @ we.word_vec('arquitecto'))"
   ]
  },
  {
   "cell_type": "code",
   "execution_count": 133,
   "metadata": {
    "colab": {
     "base_uri": "https://localhost:8080/"
    },
    "id": "2ul9nN0OA2np",
    "outputId": "693f41b0-0921-4ba9-cc51-63629b0e4727"
   },
   "outputs": [
    {
     "data": {
      "text/plain": [
       "-0.024638467"
      ]
     },
     "execution_count": 133,
     "metadata": {
      "tags": []
     },
     "output_type": "execute_result"
    }
   ],
   "source": [
    "abs(gender_direction @ we.word_vec('médica')) - abs(gender_direction @ we.word_vec('médico'))"
   ]
  },
  {
   "cell_type": "code",
   "execution_count": 118,
   "metadata": {
    "colab": {
     "base_uri": "https://localhost:8080/"
    },
    "id": "VWWUySLY_v7R",
    "outputId": "dd07b43b-46cb-44e8-8cd7-6fc3c069bd23"
   },
   "outputs": [
    {
     "data": {
      "text/plain": [
       "0.21549931"
      ]
     },
     "execution_count": 118,
     "metadata": {
      "tags": []
     },
     "output_type": "execute_result"
    }
   ],
   "source": [
    "abs(gender_direction @ we.word_vec('enfermera')) - abs(gender_direction @ we.word_vec('enfermero'))"
   ]
  },
  {
   "cell_type": "markdown",
   "metadata": {
    "id": "dqSvbe2sC3vd"
   },
   "source": [
    "# Resources\n",
    "\n",
    "## [Doing Data Science Responsibly - Resources](https://handbook.responsibly.ai/appendices/resources.html)\n",
    "\n",
    "In particular:\n",
    "\n",
    "- Timnit Gebru and Emily Denton - CVPR 2020 - [FATE Tutorial](https://youtu.be/-xGvcDzvi7Q) [Video]\n",
    "\n",
    "- Rachel Thomas - fast.ai - [Algorithmic Bias (NLP video 16)](https://youtu.be/pThqge9QDn8) [Video]\n",
    "\n",
    "- Solon Barocas, Moritz Hardt, Arvind Narayanan - [Fairness and machine learning - Limitations and Opportunities](https://fairmlbook.org/) [Textbook]\n",
    "\n",
    "## [Course // Responsible AI, Law, Ethics & Society](https://learn.responsibly.ai/)\n",
    "\n",
    "## [Course // Ethic aspects in AI (in spanish, from UBA)](https://campus.exactas.uba.ar/course/view.php?id=1477&section=0)\n",
    "\n",
    "\n",
    "## Non-Technical Overview with More Downstream Application Examples\n",
    "- [Google - Text Embedding Models Contain Bias. Here's Why That Matters.](https://developers.googleblog.com/2018/04/text-embedding-models-contain-bias.html)\n",
    "- [Kai-Wei Chang (UCLA) - What It Takes to Control Societal Bias in Natural Language Processing](https://www.youtube.com/watch?v=RgcXD_1Cu18)\n",
    "- Sun, T., Gaut, A., Tang, S., Huang, Y., ElSherief, M., Zhao, J., ... & Wang, W. Y. (2019). [Mitigating Gender Bias in Natural Language Processing: Literature Review](https://arxiv.org/pdf/1906.08976.pdf). arXiv preprint arXiv:1906.08976."
   ]
  },
  {
   "cell_type": "markdown",
   "metadata": {
    "id": "6jQnG0Jq_ccD"
   },
   "source": []
  },
  {
   "cell_type": "markdown",
   "metadata": {
    "id": "4LtaZOPmC3vd"
   },
   "source": [
    "## Critical Prespective on Bias in NLP\n",
    "\n",
    "Blodgett, S. L., Barocas, S., Daumé III, H., & Wallach, H. (2020). [Language (Technology) is Power: A Critical Survey of \"Bias\" in NLP](https://arxiv.org/pdf/2005.14050.pdf). arXiv preprint arXiv:2005.14050.\n",
    "\n"
   ]
  },
  {
   "cell_type": "markdown",
   "metadata": {
    "id": "BlguqiRoNaG9"
   },
   "source": [
    "## Additional Related Work\n",
    "\n",
    "- **Software Framework for Word Embedding Bias**\n",
    "  - [WEFE: The Word Embeddings Fairness Evaluation Framework](https://wefe.readthedocs.io/en/latest/)\n",
    "\n",
    "- **Understanding Bias**\n",
    "    - Ethayarajh, K., Duvenaud, D., & Hirst, G. (2019, July). [Understanding Undesirable Word Embedding Associations](https://arxiv.org/pdf/1908.06361.pdf). In Proceedings of the 57th Annual Meeting of the Association for Computational Linguistics (pp. 1696-1705). - **Including critical analysis of the current metrics and debiasing methods (quite technical)**\n",
    "\n",
    "  - Brunet, M. E., Alkalay-Houlihan, C., Anderson, A., & Zemel, R. (2019, May). [Understanding the Origins of Bias in Word Embeddings](https://arxiv.org/pdf/1810.03611.pdf). In International Conference on Machine Learning (pp. 803-811).\n",
    "\n",
    "- **Discovering Bias**\n",
    "  - Swinger, N., De-Arteaga, M., Heffernan IV, N. T., Leiserson, M. D., & Kalai, A. T. (2019, January). [What are the biases in my word embedding?](https://arxiv.org/pdf/1812.08769.pdf). In Proceedings of the 2019 AAAI/ACM Conference on AI, Ethics, and Society (pp. 305-311). ACM.\n",
    "    Measuring Gender Bias in Word Embeddings across Domains and Discovering New Gender Bias Word Categories\n",
    "  \n",
    "  - Chaloner, K., & Maldonado, A. (2019, August). [Measuring Gender Bias in Word Embeddings across Domains and Discovering New Gender Bias Word Categories](https://www.aclweb.org/anthology/W19-3804). In Proceedings of the First Workshop on Gender Bias in Natural Language Processing (pp. 25-32).\n",
    "\n",
    "- **Mitigating Bias**\n",
    "  - Maudslay, R. H., Gonen, H., Cotterell, R., & Teufel, S. (2019). [It's All in the Name: Mitigating Gender Bias with Name-Based Counterfactual Data Substitution](https://arxiv.org/pdf/1909.00871.pdf). arXiv preprint arXiv:1909.00871.\n",
    "  \n",
    "  - Shin, S., Song, K., Jang, J., Kim, H., Joo, W., & Moon, I. C. (2020). [Neutralizing Gender Bias in Word Embedding with Latent Disentanglement and Counterfactual Generation](https://arxiv.org/pdf/2004.03133.pdf). arXiv preprint arXiv:2004.03133.\n",
    "  \n",
    "  - Zhang, B. H., Lemoine, B., & Mitchell, M. (2018, December). [Mitigating unwanted biases with adversarial learning](https://dl.acm.org/doi/pdf/10.1145/3278721.3278779?casa_token=yd1KGvVDBGwAAAAA:YzUT7d8Fq4bOV2b5M-CB43NLqIReW7wx2EaZj0omJ0ncbZF_pkPFoyV6WHWIBnG_HKIRqiG7FWFjsA). In Proceedings of the 2018 AAAI/ACM Conference on AI, Ethics, and Society (pp. 335-340). [Demo](https://colab.research.google.com/notebooks/ml_fairness/adversarial_debiasing.ipynb)\n",
    "  \n",
    "- **Fairness in Classification**\n",
    "  - Prost, F., Thain, N., & Bolukbasi, T. (2019, August). [Debiasing Embeddings for Reduced Gender Bias in Text Classification](https://arxiv.org/pdf/1908.02810.pdf). In Proceedings of the First Workshop on Gender Bias in Natural Language Processing (pp. 69-75).\n",
    "  \n",
    "  - Romanov, A., De-Arteaga, M., Wallach, H., Chayes, J., Borgs, C., Chouldechova, A., ... & Kalai, A. (2019, June). [What's in a Name? Reducing Bias in Bios without Access to Protected Attributes](https://arxiv.org/pdf/1904.05233.pdf). In Proceedings of the 2019 Conference of the North American Chapter of the Association for Computational Linguistics: Human Language Technologies, Volume 1 (Long and Short Papers) (pp. 4187-4195).\n",
    "\n",
    "- **Grammatical Gender**\n",
    "  - Zhou, P., Shi, W., Zhao, J., Huang, K. H., Chen, M., & Chang, K. W. [Analyzing and Mitigating Gender Bias in Languages with Grammatical Gender and Bilingual Word Embeddings](https://aiforsocialgood.github.io/icml2019/accepted/track1/pdfs/47_aisg_icml2019.pdf). ICML 2019 - AI for Social Good. [Poster](https://aiforsocialgood.github.io/icml2019/accepted/track1/posters/47_aisg_icml2019.pdf)\n",
    "\n",
    "  - Zhao, J., Mukherjee, S., Hosseini, S., Chang, K. W., & Awadallah, A. [Gender Bias in Multilingual Embeddings](https://www.researchgate.net/profile/Subhabrata_Mukherjee/publication/340660062_Gender_Bias_in_Multilingual_Embeddings/links/5e97428692851c2f52a6200a/Gender-Bias-in-Multilingual-Embeddings.pdf).\n",
    "\n",
    "  - Gonen, H., Kementchedjhieva, Y., & Goldberg, Y. (2019). [How does Grammatical Gender Affect Noun Representations in Gender-Marking Languages?](https://arxiv.org/pdf/1910.14161.pdf). arXiv preprint arXiv:1910.14161.\n",
    "\n",
    "- **Other**  \n",
    "  - Zhao, J., Wang, T., Yatskar, M., Cotterell, R., Ordonez, V., & Chang, K. W. (2019, June). [Gender Bias in Contextualized Word Embeddings](https://arxiv.org/pdf/1904.03310.pdf). In Proceedings of the 2019 Conference of the North American Chapter of the Association for Computational Linguistics: Human Language Technologies, Volume 1 (Long and Short Papers) (pp. 629-634). [slides](https://jyzhao.net/files/naacl19.pdf)\n",
    "\n",
    "\n",
    "##### Complete example of using `responsibly` with Word2Vec, GloVe and fastText: http://docs.responsibly.ai/notebooks/demo-gender-bias-words-embedding.html"
   ]
  },
  {
   "cell_type": "markdown",
   "metadata": {
    "id": "g0qt-q15NflT"
   },
   "source": [
    "## Bias in NLP\n",
    "\n",
    "Around dozen of papers on this field until 2019, but nowdays plenty of work is done. Two venues from back then:\n",
    "- [1st ACL Workshop on Gender Bias for Natural Language Processing](https://genderbiasnlp.talp.cat/)\n",
    "- [NAACL 2019](https://naacl2019.org/)"
   ]
  },
  {
   "cell_type": "code",
   "execution_count": null,
   "metadata": {
    "id": "muFnue4CNgN9"
   },
   "outputs": [],
   "source": []
  }
 ],
 "metadata": {
  "colab": {
   "collapsed_sections": [],
   "name": "main-tutorial-bias-word-embedding.ipynb",
   "provenance": [],
   "toc_visible": true
  },
  "kernelspec": {
   "display_name": "Python 3",
   "language": "python",
   "name": "python3"
  },
  "language_info": {
   "codemirror_mode": {
    "name": "ipython",
    "version": 3
   },
   "file_extension": ".py",
   "mimetype": "text/x-python",
   "name": "python",
   "nbconvert_exporter": "python",
   "pygments_lexer": "ipython3",
   "version": "3.8.5"
  }
 },
 "nbformat": 4,
 "nbformat_minor": 1
}
